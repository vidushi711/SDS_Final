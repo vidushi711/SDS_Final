{
 "cells": [
  {
   "cell_type": "code",
   "execution_count": 1,
   "id": "initial_id",
   "metadata": {
    "collapsed": true,
    "ExecuteTime": {
     "end_time": "2024-02-01T18:39:18.628603Z",
     "start_time": "2024-02-01T18:39:18.271481Z"
    }
   },
   "outputs": [],
   "source": [
    "import pandas as pd\n",
    "import geopandas as gpd\n",
    "import numpy as np\n",
    "import os"
   ]
  },
  {
   "cell_type": "code",
   "outputs": [
    {
     "data": {
      "text/plain": "  lgd_state_id lgd_district_id       date               lgd_state_name  \\\n0           35             632 2020-01-30  andaman and nicobar islands   \n1           35             632 2020-02-02  andaman and nicobar islands   \n2           35             632 2020-02-03  andaman and nicobar islands   \n3           35             632 2020-03-02  andaman and nicobar islands   \n4           35             632 2020-03-03  andaman and nicobar islands   \n\n          lgd_district_name  total_cases  total_deaths  \n0  north and middle andaman          0.0           0.0  \n1  north and middle andaman          0.0           0.0  \n2  north and middle andaman          0.0           0.0  \n3  north and middle andaman          0.0           0.0  \n4  north and middle andaman          0.0           0.0  ",
      "text/html": "<div>\n<style scoped>\n    .dataframe tbody tr th:only-of-type {\n        vertical-align: middle;\n    }\n\n    .dataframe tbody tr th {\n        vertical-align: top;\n    }\n\n    .dataframe thead th {\n        text-align: right;\n    }\n</style>\n<table border=\"1\" class=\"dataframe\">\n  <thead>\n    <tr style=\"text-align: right;\">\n      <th></th>\n      <th>lgd_state_id</th>\n      <th>lgd_district_id</th>\n      <th>date</th>\n      <th>lgd_state_name</th>\n      <th>lgd_district_name</th>\n      <th>total_cases</th>\n      <th>total_deaths</th>\n    </tr>\n  </thead>\n  <tbody>\n    <tr>\n      <th>0</th>\n      <td>35</td>\n      <td>632</td>\n      <td>2020-01-30</td>\n      <td>andaman and nicobar islands</td>\n      <td>north and middle andaman</td>\n      <td>0.0</td>\n      <td>0.0</td>\n    </tr>\n    <tr>\n      <th>1</th>\n      <td>35</td>\n      <td>632</td>\n      <td>2020-02-02</td>\n      <td>andaman and nicobar islands</td>\n      <td>north and middle andaman</td>\n      <td>0.0</td>\n      <td>0.0</td>\n    </tr>\n    <tr>\n      <th>2</th>\n      <td>35</td>\n      <td>632</td>\n      <td>2020-02-03</td>\n      <td>andaman and nicobar islands</td>\n      <td>north and middle andaman</td>\n      <td>0.0</td>\n      <td>0.0</td>\n    </tr>\n    <tr>\n      <th>3</th>\n      <td>35</td>\n      <td>632</td>\n      <td>2020-03-02</td>\n      <td>andaman and nicobar islands</td>\n      <td>north and middle andaman</td>\n      <td>0.0</td>\n      <td>0.0</td>\n    </tr>\n    <tr>\n      <th>4</th>\n      <td>35</td>\n      <td>632</td>\n      <td>2020-03-03</td>\n      <td>andaman and nicobar islands</td>\n      <td>north and middle andaman</td>\n      <td>0.0</td>\n      <td>0.0</td>\n    </tr>\n  </tbody>\n</table>\n</div>"
     },
     "execution_count": 2,
     "metadata": {},
     "output_type": "execute_result"
    }
   ],
   "source": [
    "# Explore the \"covid_infected_deaths\" table\n",
    "total_covid_infected_deaths_perDistrict = pd.read_stata(\"../covid_data/covid/covid_infected_deaths.dta\")\n",
    "total_covid_infected_deaths_perDistrict.head()"
   ],
   "metadata": {
    "collapsed": false,
    "ExecuteTime": {
     "end_time": "2024-02-01T18:39:18.972960Z",
     "start_time": "2024-02-01T18:39:18.629421Z"
    }
   },
   "id": "195ff967206ab26d",
   "execution_count": 2
  },
  {
   "cell_type": "code",
   "outputs": [
    {
     "name": "stdout",
     "output_type": "stream",
     "text": [
      "<class 'pandas.core.frame.DataFrame'>\n",
      "RangeIndex: 439416 entries, 0 to 439415\n",
      "Data columns (total 8 columns):\n",
      " #   Column             Non-Null Count   Dtype  \n",
      "---  ------             --------------   -----  \n",
      " 0   lgd_state_id       439416 non-null  object \n",
      " 1   lgd_district_id    439416 non-null  object \n",
      " 2   lgd_state_name     439416 non-null  object \n",
      " 3   lgd_district_name  439416 non-null  object \n",
      " 4   total_cases        392238 non-null  float64\n",
      " 5   total_deaths       392238 non-null  float64\n",
      " 6   year               439416 non-null  int32  \n",
      " 7   month              439416 non-null  int32  \n",
      "dtypes: float64(2), int32(2), object(4)\n",
      "memory usage: 23.5+ MB\n"
     ]
    }
   ],
   "source": [
    "# Explore the \"covid_infected_deaths\" table\n",
    "total_covid_infected_deaths_perDistrict[\"year\"] = total_covid_infected_deaths_perDistrict[\"date\"].dt.year\n",
    "total_covid_infected_deaths_perDistrict[\"month\"] = total_covid_infected_deaths_perDistrict[\"date\"].dt.month\n",
    "total_covid_infected_deaths_perDistrict.drop([\"date\"], axis=1, inplace=True)\n",
    "\n",
    "# Explore the \"total_covid_infected_deaths_perDistrict\" table\n",
    "total_covid_infected_deaths_perDistrict.info()"
   ],
   "metadata": {
    "collapsed": false,
    "ExecuteTime": {
     "end_time": "2024-02-01T18:39:19.021143Z",
     "start_time": "2024-02-01T18:39:18.972286Z"
    }
   },
   "id": "4d1f08af96a7ba0a",
   "execution_count": 3
  },
  {
   "cell_type": "code",
   "outputs": [
    {
     "name": "stdout",
     "output_type": "stream",
     "text": [
      "<class 'pandas.core.frame.DataFrame'>\n",
      "Index: 13404 entries, 22 to 15135\n",
      "Data columns (total 7 columns):\n",
      " #   Column           Non-Null Count  Dtype  \n",
      "---  ------           --------------  -----  \n",
      " 0   lgd_district_id  13404 non-null  object \n",
      " 1   year             13404 non-null  int32  \n",
      " 2   month            13404 non-null  int32  \n",
      " 3   total_cases      13404 non-null  float64\n",
      " 4   total_deaths     13404 non-null  float64\n",
      " 5   new_cases        13404 non-null  float64\n",
      " 6   new_deaths       13404 non-null  float64\n",
      "dtypes: float64(4), int32(2), object(1)\n",
      "memory usage: 733.0+ KB\n"
     ]
    }
   ],
   "source": [
    "# Get the monthly cumulative cases and deaths in district level\n",
    "monthly_cumulative = total_covid_infected_deaths_perDistrict.groupby([\"lgd_district_id\", \"year\", \"month\"]).agg({\n",
    "    \"total_cases\": \"max\",\n",
    "    \"total_deaths\": \"max\"\n",
    "}).reset_index()\n",
    "\n",
    "# Get the monthly new cases and deaths in district level\n",
    "monthly_new_cases_deaths = monthly_cumulative.groupby([\"lgd_district_id\"]).diff().fillna(0)\n",
    "\n",
    "# Merge the above data\n",
    "monthly_cumulative[[\"new_cases\", \"new_deaths\"]] = monthly_new_cases_deaths[[\"total_cases\", \"total_deaths\"]]\n",
    "\n",
    "# Clean the \"monthly_cumulative\" table\n",
    "monthly_cumulative.replace(\"\", np.nan, inplace=True)\n",
    "monthly_cumulative = monthly_cumulative.dropna()\n",
    "\n",
    "monthly_cumulative.info()"
   ],
   "metadata": {
    "collapsed": false,
    "ExecuteTime": {
     "end_time": "2024-02-01T18:39:19.053744Z",
     "start_time": "2024-02-01T18:39:19.022902Z"
    }
   },
   "id": "bf7cdb224d898991",
   "execution_count": 4
  },
  {
   "cell_type": "code",
   "outputs": [
    {
     "name": "stdout",
     "output_type": "stream",
     "text": [
      "<class 'geopandas.geodataframe.GeoDataFrame'>\n",
      "RangeIndex: 721 entries, 0 to 720\n",
      "Data columns (total 9 columns):\n",
      " #   Column      Non-Null Count  Dtype   \n",
      "---  ------      --------------  -----   \n",
      " 0   lgd_sta_id  721 non-null    object  \n",
      " 1   lgd_sta_na  721 non-null    object  \n",
      " 2   lgd_dis_id  721 non-null    object  \n",
      " 3   lgd_dis_na  721 non-null    object  \n",
      " 4   pc11_st_id  721 non-null    object  \n",
      " 5   pc11_di_id  721 non-null    object  \n",
      " 6   pc11_st_na  721 non-null    object  \n",
      " 7   pc11_di_na  721 non-null    object  \n",
      " 8   geometry    721 non-null    geometry\n",
      "dtypes: geometry(1), object(8)\n",
      "memory usage: 50.8+ KB\n"
     ]
    }
   ],
   "source": [
    "# Get shapefile in state level\n",
    "district_shp = gpd.read_file(\"./district_key_table_shp/district_key_table_shp.shp\")\n",
    "\n",
    "# Check the \"district_shp\" table\n",
    "district_shp.info()"
   ],
   "metadata": {
    "collapsed": false,
    "ExecuteTime": {
     "end_time": "2024-02-01T18:39:20.384559Z",
     "start_time": "2024-02-01T18:39:19.052164Z"
    }
   },
   "id": "b8090d40a054f616",
   "execution_count": 5
  },
  {
   "cell_type": "code",
   "outputs": [
    {
     "name": "stdout",
     "output_type": "stream",
     "text": [
      "<class 'geopandas.geodataframe.GeoDataFrame'>\n",
      "Index: 13256 entries, 0 to 13299\n",
      "Data columns (total 16 columns):\n",
      " #   Column           Non-Null Count  Dtype   \n",
      "---  ------           --------------  -----   \n",
      " 0   lgd_sta_id       13256 non-null  object  \n",
      " 1   lgd_sta_na       13256 non-null  object  \n",
      " 2   lgd_dis_id       13256 non-null  object  \n",
      " 3   lgd_dis_na       13256 non-null  object  \n",
      " 4   pc11_st_id       13256 non-null  object  \n",
      " 5   pc11_di_id       13256 non-null  object  \n",
      " 6   pc11_st_na       13256 non-null  object  \n",
      " 7   pc11_di_na       13256 non-null  object  \n",
      " 8   geometry         13256 non-null  geometry\n",
      " 9   lgd_district_id  13256 non-null  object  \n",
      " 10  year             13256 non-null  float64 \n",
      " 11  month            13256 non-null  float64 \n",
      " 12  total_cases      13256 non-null  float64 \n",
      " 13  total_deaths     13256 non-null  float64 \n",
      " 14  new_cases        13256 non-null  float64 \n",
      " 15  new_deaths       13256 non-null  float64 \n",
      "dtypes: float64(6), geometry(1), object(9)\n",
      "memory usage: 1.7+ MB\n"
     ]
    }
   ],
   "source": [
    "# Merge the above two tables (2018)\n",
    "covid_total_mortality_perDistrict_perMonth_shp = pd.merge(district_shp, monthly_cumulative, left_on=\"lgd_dis_id\", right_on=\"lgd_district_id\", how=\"left\")\n",
    "covid_total_mortality_perDistrict_perMonth_shp = covid_total_mortality_perDistrict_perMonth_shp.dropna()\n",
    "\n",
    "# Check the \"covid_total_mortality_perDistrict_perMonth_shp\" table\n",
    "covid_total_mortality_perDistrict_perMonth_shp.info()"
   ],
   "metadata": {
    "collapsed": false,
    "ExecuteTime": {
     "end_time": "2024-02-01T18:39:20.398995Z",
     "start_time": "2024-02-01T18:39:20.385453Z"
    }
   },
   "id": "6e134ab6096bb53b",
   "execution_count": 6
  },
  {
   "cell_type": "code",
   "outputs": [
    {
     "name": "stdout",
     "output_type": "stream",
     "text": [
      "<class 'geopandas.geodataframe.GeoDataFrame'>\n",
      "Index: 13256 entries, 0 to 13299\n",
      "Data columns (total 15 columns):\n",
      " #   Column      Non-Null Count  Dtype   \n",
      "---  ------      --------------  -----   \n",
      " 0   lgd_sta_id  13256 non-null  object  \n",
      " 1   lgd_sta_na  13256 non-null  object  \n",
      " 2   lgd_dis_id  13256 non-null  object  \n",
      " 3   lgd_dis_na  13256 non-null  object  \n",
      " 4   pc11_st_id  13256 non-null  object  \n",
      " 5   pc11_di_id  13256 non-null  object  \n",
      " 6   pc11_st_na  13256 non-null  object  \n",
      " 7   pc11_di_na  13256 non-null  object  \n",
      " 8   geometry    13256 non-null  geometry\n",
      " 9   year        13256 non-null  float64 \n",
      " 10  month       13256 non-null  float64 \n",
      " 11  total_case  13256 non-null  float64 \n",
      " 12  total_deat  13256 non-null  float64 \n",
      " 13  new_cases   13256 non-null  float64 \n",
      " 14  new_deaths  13256 non-null  float64 \n",
      "dtypes: float64(6), geometry(1), object(8)\n",
      "memory usage: 1.6+ MB\n"
     ]
    }
   ],
   "source": [
    "covid_total_mortality_perDistrict_perMonth_shp.drop(columns=[\"lgd_district_id\"], inplace=True)\n",
    "covid_total_mortality_perDistrict_perMonth_shp.rename(columns={\"total_cases\": \"total_case\",\n",
    "                                                               \"total_deaths\": \"total_deat\"}, inplace=True)\n",
    "\n",
    "# Check the \"mortality_perDistrict_perMonth_shp\" table\n",
    "covid_total_mortality_perDistrict_perMonth_shp.info()"
   ],
   "metadata": {
    "collapsed": false,
    "ExecuteTime": {
     "end_time": "2024-02-01T18:39:20.410699Z",
     "start_time": "2024-02-01T18:39:20.402532Z"
    }
   },
   "id": "39b6ddf4610308f9",
   "execution_count": 7
  },
  {
   "cell_type": "code",
   "outputs": [],
   "source": [
    "# Export the \"mortality_perDistrict_perMonth_shp\" table to shapefile\n",
    "os.mkdir(\"./covid_total_mortality_perDistrict_perMonth_shp\")\n",
    "covid_total_mortality_perDistrict_perMonth_shp.to_file(\n",
    "    \"./covid_total_mortality_perDistrict_perMonth_shp/covid_total_mortality_perDistrict_perMonth_shp.shp\", driver=\"ESRI Shapefile\")"
   ],
   "metadata": {
    "collapsed": false,
    "ExecuteTime": {
     "end_time": "2024-02-01T18:39:30.286784Z",
     "start_time": "2024-02-01T18:39:20.406908Z"
    }
   },
   "id": "70d190292c557ec6",
   "execution_count": 8
  }
 ],
 "metadata": {
  "kernelspec": {
   "display_name": "Python 3",
   "language": "python",
   "name": "python3"
  },
  "language_info": {
   "codemirror_mode": {
    "name": "ipython",
    "version": 2
   },
   "file_extension": ".py",
   "mimetype": "text/x-python",
   "name": "python",
   "nbconvert_exporter": "python",
   "pygments_lexer": "ipython2",
   "version": "2.7.6"
  }
 },
 "nbformat": 4,
 "nbformat_minor": 5
}
