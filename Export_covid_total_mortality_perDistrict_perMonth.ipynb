{
 "cells": [
  {
   "cell_type": "code",
   "execution_count": 23,
   "id": "initial_id",
   "metadata": {
    "collapsed": true,
    "ExecuteTime": {
     "end_time": "2024-02-02T19:21:44.167681Z",
     "start_time": "2024-02-02T19:21:44.164486Z"
    }
   },
   "outputs": [],
   "source": [
    "import pandas as pd\n",
    "import geopandas as gpd\n",
    "import numpy as np\n",
    "import os"
   ]
  },
  {
   "cell_type": "code",
   "outputs": [
    {
     "data": {
      "text/plain": "      lgd_state_id lgd_district_id       date lgd_state_name  \\\n34884           10             188 2020-01-30          bihar   \n34885           10             188 2020-02-02          bihar   \n34886           10             188 2020-02-03          bihar   \n34887           10             188 2020-03-02          bihar   \n34888           10             188 2020-03-03          bihar   \n\n      lgd_district_name  total_cases  total_deaths  \n34884            araria          NaN           NaN  \n34885            araria          NaN           NaN  \n34886            araria          NaN           NaN  \n34887            araria          NaN           NaN  \n34888            araria          NaN           NaN  ",
      "text/html": "<div>\n<style scoped>\n    .dataframe tbody tr th:only-of-type {\n        vertical-align: middle;\n    }\n\n    .dataframe tbody tr th {\n        vertical-align: top;\n    }\n\n    .dataframe thead th {\n        text-align: right;\n    }\n</style>\n<table border=\"1\" class=\"dataframe\">\n  <thead>\n    <tr style=\"text-align: right;\">\n      <th></th>\n      <th>lgd_state_id</th>\n      <th>lgd_district_id</th>\n      <th>date</th>\n      <th>lgd_state_name</th>\n      <th>lgd_district_name</th>\n      <th>total_cases</th>\n      <th>total_deaths</th>\n    </tr>\n  </thead>\n  <tbody>\n    <tr>\n      <th>34884</th>\n      <td>10</td>\n      <td>188</td>\n      <td>2020-01-30</td>\n      <td>bihar</td>\n      <td>araria</td>\n      <td>NaN</td>\n      <td>NaN</td>\n    </tr>\n    <tr>\n      <th>34885</th>\n      <td>10</td>\n      <td>188</td>\n      <td>2020-02-02</td>\n      <td>bihar</td>\n      <td>araria</td>\n      <td>NaN</td>\n      <td>NaN</td>\n    </tr>\n    <tr>\n      <th>34886</th>\n      <td>10</td>\n      <td>188</td>\n      <td>2020-02-03</td>\n      <td>bihar</td>\n      <td>araria</td>\n      <td>NaN</td>\n      <td>NaN</td>\n    </tr>\n    <tr>\n      <th>34887</th>\n      <td>10</td>\n      <td>188</td>\n      <td>2020-03-02</td>\n      <td>bihar</td>\n      <td>araria</td>\n      <td>NaN</td>\n      <td>NaN</td>\n    </tr>\n    <tr>\n      <th>34888</th>\n      <td>10</td>\n      <td>188</td>\n      <td>2020-03-03</td>\n      <td>bihar</td>\n      <td>araria</td>\n      <td>NaN</td>\n      <td>NaN</td>\n    </tr>\n  </tbody>\n</table>\n</div>"
     },
     "execution_count": 24,
     "metadata": {},
     "output_type": "execute_result"
    }
   ],
   "source": [
    "# Explore the \"covid_infected_deaths\" table\n",
    "total_covid_infected_deaths_perDistrict = pd.read_stata(\"../covid_data/covid/covid_infected_deaths.dta\")\n",
    "total_covid_infected_deaths_perDistrict = total_covid_infected_deaths_perDistrict[total_covid_infected_deaths_perDistrict[\"lgd_state_name\"].isin([\"tamil nadu\", \"madhya pradesh\", \"maharashtra\", \"uttar pradesh\", \"kerala\", \"bihar\"])]\n",
    "total_covid_infected_deaths_perDistrict.head()"
   ],
   "metadata": {
    "collapsed": false,
    "ExecuteTime": {
     "end_time": "2024-02-02T19:21:44.544053Z",
     "start_time": "2024-02-02T19:21:44.168399Z"
    }
   },
   "id": "195ff967206ab26d",
   "execution_count": 24
  },
  {
   "cell_type": "code",
   "outputs": [
    {
     "name": "stdout",
     "output_type": "stream",
     "text": [
      "<class 'pandas.core.frame.DataFrame'>\n",
      "Index: 157896 entries, 34884 to 416159\n",
      "Data columns (total 8 columns):\n",
      " #   Column             Non-Null Count   Dtype  \n",
      "---  ------             --------------   -----  \n",
      " 0   lgd_state_id       157896 non-null  object \n",
      " 1   lgd_district_id    157896 non-null  object \n",
      " 2   lgd_state_name     157896 non-null  object \n",
      " 3   lgd_district_name  157896 non-null  object \n",
      " 4   total_cases        153014 non-null  float64\n",
      " 5   total_deaths       153014 non-null  float64\n",
      " 6   year               157896 non-null  int32  \n",
      " 7   month              157896 non-null  int32  \n",
      "dtypes: float64(2), int32(2), object(4)\n",
      "memory usage: 9.6+ MB\n"
     ]
    }
   ],
   "source": [
    "# Explore the \"covid_infected_deaths\" table\n",
    "total_covid_infected_deaths_perDistrict[\"year\"] = total_covid_infected_deaths_perDistrict[\"date\"].dt.year\n",
    "total_covid_infected_deaths_perDistrict[\"month\"] = total_covid_infected_deaths_perDistrict[\"date\"].dt.month\n",
    "total_covid_infected_deaths_perDistrict.drop([\"date\"], axis=1, inplace=True)\n",
    "\n",
    "# Explore the \"total_covid_infected_deaths_perDistrict\" table\n",
    "total_covid_infected_deaths_perDistrict.info()"
   ],
   "metadata": {
    "collapsed": false,
    "ExecuteTime": {
     "end_time": "2024-02-02T19:21:44.570213Z",
     "start_time": "2024-02-02T19:21:44.544498Z"
    }
   },
   "id": "4d1f08af96a7ba0a",
   "execution_count": 25
  },
  {
   "cell_type": "code",
   "outputs": [
    {
     "data": {
      "text/plain": "   lgd_state_id  year  total_cases  total_deaths  new_cases  new_deaths\n0            09  2020      78257.0        1111.0        0.0         0.0\n1            09  2021     238839.0        2651.0   160582.0      1540.0\n2            10  2020      48910.0         380.0        0.0         0.0\n3            10  2021     147007.0        2334.0    98097.0      1954.0\n4            23  2020      54918.0         873.0        0.0         0.0\n5            23  2021     153230.0        1665.0    98312.0       792.0\n6            27  2020     372655.0       11116.0        0.0         0.0\n7            27  2021    1154776.0       19594.0   782121.0      8478.0\n8            32  2020      90820.0         653.0        0.0         0.0\n9            32  2021     602800.0        4996.0   511980.0      4343.0\n10           33  2020     225507.0        4005.0        0.0         0.0\n11           33  2021     554672.0        8546.0   329165.0      4541.0",
      "text/html": "<div>\n<style scoped>\n    .dataframe tbody tr th:only-of-type {\n        vertical-align: middle;\n    }\n\n    .dataframe tbody tr th {\n        vertical-align: top;\n    }\n\n    .dataframe thead th {\n        text-align: right;\n    }\n</style>\n<table border=\"1\" class=\"dataframe\">\n  <thead>\n    <tr style=\"text-align: right;\">\n      <th></th>\n      <th>lgd_state_id</th>\n      <th>year</th>\n      <th>total_cases</th>\n      <th>total_deaths</th>\n      <th>new_cases</th>\n      <th>new_deaths</th>\n    </tr>\n  </thead>\n  <tbody>\n    <tr>\n      <th>0</th>\n      <td>09</td>\n      <td>2020</td>\n      <td>78257.0</td>\n      <td>1111.0</td>\n      <td>0.0</td>\n      <td>0.0</td>\n    </tr>\n    <tr>\n      <th>1</th>\n      <td>09</td>\n      <td>2021</td>\n      <td>238839.0</td>\n      <td>2651.0</td>\n      <td>160582.0</td>\n      <td>1540.0</td>\n    </tr>\n    <tr>\n      <th>2</th>\n      <td>10</td>\n      <td>2020</td>\n      <td>48910.0</td>\n      <td>380.0</td>\n      <td>0.0</td>\n      <td>0.0</td>\n    </tr>\n    <tr>\n      <th>3</th>\n      <td>10</td>\n      <td>2021</td>\n      <td>147007.0</td>\n      <td>2334.0</td>\n      <td>98097.0</td>\n      <td>1954.0</td>\n    </tr>\n    <tr>\n      <th>4</th>\n      <td>23</td>\n      <td>2020</td>\n      <td>54918.0</td>\n      <td>873.0</td>\n      <td>0.0</td>\n      <td>0.0</td>\n    </tr>\n    <tr>\n      <th>5</th>\n      <td>23</td>\n      <td>2021</td>\n      <td>153230.0</td>\n      <td>1665.0</td>\n      <td>98312.0</td>\n      <td>792.0</td>\n    </tr>\n    <tr>\n      <th>6</th>\n      <td>27</td>\n      <td>2020</td>\n      <td>372655.0</td>\n      <td>11116.0</td>\n      <td>0.0</td>\n      <td>0.0</td>\n    </tr>\n    <tr>\n      <th>7</th>\n      <td>27</td>\n      <td>2021</td>\n      <td>1154776.0</td>\n      <td>19594.0</td>\n      <td>782121.0</td>\n      <td>8478.0</td>\n    </tr>\n    <tr>\n      <th>8</th>\n      <td>32</td>\n      <td>2020</td>\n      <td>90820.0</td>\n      <td>653.0</td>\n      <td>0.0</td>\n      <td>0.0</td>\n    </tr>\n    <tr>\n      <th>9</th>\n      <td>32</td>\n      <td>2021</td>\n      <td>602800.0</td>\n      <td>4996.0</td>\n      <td>511980.0</td>\n      <td>4343.0</td>\n    </tr>\n    <tr>\n      <th>10</th>\n      <td>33</td>\n      <td>2020</td>\n      <td>225507.0</td>\n      <td>4005.0</td>\n      <td>0.0</td>\n      <td>0.0</td>\n    </tr>\n    <tr>\n      <th>11</th>\n      <td>33</td>\n      <td>2021</td>\n      <td>554672.0</td>\n      <td>8546.0</td>\n      <td>329165.0</td>\n      <td>4541.0</td>\n    </tr>\n  </tbody>\n</table>\n</div>"
     },
     "execution_count": 26,
     "metadata": {},
     "output_type": "execute_result"
    }
   ],
   "source": [
    "# Get the monthly cumulative cases and deaths in district level\n",
    "yearly_cumulative = total_covid_infected_deaths_perDistrict.groupby([\"lgd_state_id\", \"year\"]).agg({\n",
    "    \"total_cases\": \"max\",\n",
    "    \"total_deaths\": \"max\"\n",
    "}).reset_index()\n",
    "\n",
    "# Get the monthly new cases and deaths in state level\n",
    "yearly_new_cases_deaths = yearly_cumulative.groupby([\"lgd_state_id\"]).diff().fillna(0)\n",
    "\n",
    "# Merge the above data\n",
    "yearly_cumulative[[\"new_cases\", \"new_deaths\"]] = yearly_new_cases_deaths[[\"total_cases\", \"total_deaths\"]]\n",
    "\n",
    "# Clean the \"monthly_cumulative\" table\n",
    "yearly_cumulative.replace(\"\", np.nan, inplace=True)\n",
    "yearly_cumulative = yearly_cumulative.dropna()\n",
    "\n",
    "yearly_cumulative"
   ],
   "metadata": {
    "collapsed": false,
    "ExecuteTime": {
     "end_time": "2024-02-02T19:21:44.581673Z",
     "start_time": "2024-02-02T19:21:44.567941Z"
    }
   },
   "id": "bf7cdb224d898991",
   "execution_count": 26
  },
  {
   "cell_type": "code",
   "outputs": [
    {
     "name": "stdout",
     "output_type": "stream",
     "text": [
      "<class 'geopandas.geodataframe.GeoDataFrame'>\n",
      "RangeIndex: 36 entries, 0 to 35\n",
      "Data columns (total 5 columns):\n",
      " #   Column      Non-Null Count  Dtype   \n",
      "---  ------      --------------  -----   \n",
      " 0   lgd_sta_id  36 non-null     object  \n",
      " 1   lgd_sta_na  36 non-null     object  \n",
      " 2   pc11_st_id  36 non-null     object  \n",
      " 3   pc11_st_na  36 non-null     object  \n",
      " 4   geometry    36 non-null     geometry\n",
      "dtypes: geometry(1), object(4)\n",
      "memory usage: 1.5+ KB\n"
     ]
    }
   ],
   "source": [
    "# Get shapefile in state level\n",
    "state_shp = gpd.read_file(\"./output_shpfile/state_key_with_polygon/state_key_with_polygon.shp\")\n",
    "\n",
    "# Check the \"district_shp\" table\n",
    "state_shp.info()"
   ],
   "metadata": {
    "collapsed": false,
    "ExecuteTime": {
     "end_time": "2024-02-02T19:21:45.079243Z",
     "start_time": "2024-02-02T19:21:44.621125Z"
    }
   },
   "id": "b8090d40a054f616",
   "execution_count": 27
  },
  {
   "cell_type": "code",
   "outputs": [
    {
     "name": "stdout",
     "output_type": "stream",
     "text": [
      "<class 'geopandas.geodataframe.GeoDataFrame'>\n",
      "Index: 12 entries, 7 to 37\n",
      "Data columns (total 11 columns):\n",
      " #   Column        Non-Null Count  Dtype   \n",
      "---  ------        --------------  -----   \n",
      " 0   lgd_sta_id    12 non-null     object  \n",
      " 1   lgd_sta_na    12 non-null     object  \n",
      " 2   pc11_st_id    12 non-null     object  \n",
      " 3   pc11_st_na    12 non-null     object  \n",
      " 4   geometry      12 non-null     geometry\n",
      " 5   lgd_state_id  12 non-null     object  \n",
      " 6   year          12 non-null     float64 \n",
      " 7   total_cases   12 non-null     float64 \n",
      " 8   total_deaths  12 non-null     float64 \n",
      " 9   new_cases     12 non-null     float64 \n",
      " 10  new_deaths    12 non-null     float64 \n",
      "dtypes: float64(5), geometry(1), object(5)\n",
      "memory usage: 1.1+ KB\n"
     ]
    }
   ],
   "source": [
    "# Merge the above two tables (2018)\n",
    "covid_total_mortality_perState_perYear_shp = pd.merge(state_shp, yearly_cumulative, left_on=\"lgd_sta_id\", right_on=\"lgd_state_id\", how=\"left\")\n",
    "covid_total_mortality_perState_perYear_shp = covid_total_mortality_perState_perYear_shp.dropna()\n",
    "\n",
    "# Check the \"covid_total_mortality_perState_perYear_shp\" table\n",
    "covid_total_mortality_perState_perYear_shp.info()"
   ],
   "metadata": {
    "collapsed": false,
    "ExecuteTime": {
     "end_time": "2024-02-02T19:21:45.087136Z",
     "start_time": "2024-02-02T19:21:45.084901Z"
    }
   },
   "id": "6e134ab6096bb53b",
   "execution_count": 28
  },
  {
   "cell_type": "code",
   "outputs": [
    {
     "name": "stdout",
     "output_type": "stream",
     "text": [
      "<class 'geopandas.geodataframe.GeoDataFrame'>\n",
      "Index: 12 entries, 7 to 37\n",
      "Data columns (total 10 columns):\n",
      " #   Column      Non-Null Count  Dtype   \n",
      "---  ------      --------------  -----   \n",
      " 0   lgd_sta_id  12 non-null     object  \n",
      " 1   lgd_sta_na  12 non-null     object  \n",
      " 2   pc11_st_id  12 non-null     object  \n",
      " 3   pc11_st_na  12 non-null     object  \n",
      " 4   geometry    12 non-null     geometry\n",
      " 5   year        12 non-null     float64 \n",
      " 6   total_case  12 non-null     float64 \n",
      " 7   total_deat  12 non-null     float64 \n",
      " 8   new_cases   12 non-null     float64 \n",
      " 9   new_deaths  12 non-null     float64 \n",
      "dtypes: float64(5), geometry(1), object(4)\n",
      "memory usage: 1.0+ KB\n"
     ]
    }
   ],
   "source": [
    "covid_total_mortality_perState_perYear_shp.drop(columns=[\"lgd_state_id\"], inplace=True)\n",
    "covid_total_mortality_perState_perYear_shp.rename(columns={\"total_cases\": \"total_case\",\n",
    "                                                           \"total_deaths\": \"total_deat\"}, inplace=True)\n",
    "\n",
    "# Check the \"mortality_perDistrict_perMonth_shp\" table\n",
    "covid_total_mortality_perState_perYear_shp.info()"
   ],
   "metadata": {
    "collapsed": false,
    "ExecuteTime": {
     "end_time": "2024-02-02T19:21:45.092082Z",
     "start_time": "2024-02-02T19:21:45.088820Z"
    }
   },
   "id": "39b6ddf4610308f9",
   "execution_count": 29
  },
  {
   "cell_type": "code",
   "outputs": [],
   "source": [
    "# Export the \"mortality_perDistrict_perMonth_shp\" table to shapefile\n",
    "os.mkdir(\"./output_shpfile/covid_total_mortality_perState_perYear_shp\")\n",
    "covid_total_mortality_perState_perYear_shp.to_file(\n",
    "    \"./output_shpfile/covid_total_mortality_perState_perYear_shp/covid_total_mortality_perState_perYear_shp.shp\", driver=\"ESRI Shapefile\")"
   ],
   "metadata": {
    "collapsed": false,
    "ExecuteTime": {
     "end_time": "2024-02-02T19:21:45.244327Z",
     "start_time": "2024-02-02T19:21:45.092445Z"
    }
   },
   "id": "70d190292c557ec6",
   "execution_count": 30
  }
 ],
 "metadata": {
  "kernelspec": {
   "display_name": "Python 3",
   "language": "python",
   "name": "python3"
  },
  "language_info": {
   "codemirror_mode": {
    "name": "ipython",
    "version": 2
   },
   "file_extension": ".py",
   "mimetype": "text/x-python",
   "name": "python",
   "nbconvert_exporter": "python",
   "pygments_lexer": "ipython2",
   "version": "2.7.6"
  }
 },
 "nbformat": 4,
 "nbformat_minor": 5
}
