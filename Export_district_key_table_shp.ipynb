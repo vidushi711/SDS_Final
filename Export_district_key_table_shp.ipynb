{
 "cells": [
  {
   "cell_type": "code",
   "execution_count": 1,
   "id": "initial_id",
   "metadata": {
    "collapsed": true,
    "ExecuteTime": {
     "end_time": "2024-02-01T17:24:19.704655Z",
     "start_time": "2024-02-01T17:24:19.697409Z"
    }
   },
   "outputs": [],
   "source": [
    "import pandas as pd\n",
    "import os"
   ]
  },
  {
   "cell_type": "code",
   "outputs": [
    {
     "data": {
      "text/plain": "  lgd_state_id     lgd_state_name lgd_district_id  lgd_district_version  \\\n0           01  jammu and kashmir             001                     1   \n1           01  jammu and kashmir             002                     2   \n2           01  jammu and kashmir             003                     1   \n3           01  jammu and kashmir             004                     1   \n4           01  jammu and kashmir             005                     1   \n\n  lgd_district_name lgd_district_name_local  \n0          anantnag                ANANTNAG  \n1            budgam                          \n2         baramulla               BARAMULLA  \n3              doda                    DODA  \n4             jammu                   JAMMU  ",
      "text/html": "<div>\n<style scoped>\n    .dataframe tbody tr th:only-of-type {\n        vertical-align: middle;\n    }\n\n    .dataframe tbody tr th {\n        vertical-align: top;\n    }\n\n    .dataframe thead th {\n        text-align: right;\n    }\n</style>\n<table border=\"1\" class=\"dataframe\">\n  <thead>\n    <tr style=\"text-align: right;\">\n      <th></th>\n      <th>lgd_state_id</th>\n      <th>lgd_state_name</th>\n      <th>lgd_district_id</th>\n      <th>lgd_district_version</th>\n      <th>lgd_district_name</th>\n      <th>lgd_district_name_local</th>\n    </tr>\n  </thead>\n  <tbody>\n    <tr>\n      <th>0</th>\n      <td>01</td>\n      <td>jammu and kashmir</td>\n      <td>001</td>\n      <td>1</td>\n      <td>anantnag</td>\n      <td>ANANTNAG</td>\n    </tr>\n    <tr>\n      <th>1</th>\n      <td>01</td>\n      <td>jammu and kashmir</td>\n      <td>002</td>\n      <td>2</td>\n      <td>budgam</td>\n      <td></td>\n    </tr>\n    <tr>\n      <th>2</th>\n      <td>01</td>\n      <td>jammu and kashmir</td>\n      <td>003</td>\n      <td>1</td>\n      <td>baramulla</td>\n      <td>BARAMULLA</td>\n    </tr>\n    <tr>\n      <th>3</th>\n      <td>01</td>\n      <td>jammu and kashmir</td>\n      <td>004</td>\n      <td>1</td>\n      <td>doda</td>\n      <td>DODA</td>\n    </tr>\n    <tr>\n      <th>4</th>\n      <td>01</td>\n      <td>jammu and kashmir</td>\n      <td>005</td>\n      <td>1</td>\n      <td>jammu</td>\n      <td>JAMMU</td>\n    </tr>\n  </tbody>\n</table>\n</div>"
     },
     "execution_count": 2,
     "metadata": {},
     "output_type": "execute_result"
    }
   ],
   "source": [
    "# Explor the \"lgd_district_key\" table\n",
    "lgd_district_key = pd.read_stata(\"../covid_data/keys/lgd_district_key.dta\")\n",
    "lgd_district_key.head()"
   ],
   "metadata": {
    "collapsed": false,
    "ExecuteTime": {
     "end_time": "2024-02-01T17:24:19.750755Z",
     "start_time": "2024-02-01T17:24:19.707848Z"
    }
   },
   "id": "91187914efb9432b",
   "execution_count": 2
  },
  {
   "cell_type": "code",
   "outputs": [
    {
     "name": "stdout",
     "output_type": "stream",
     "text": [
      "<class 'pandas.core.frame.DataFrame'>\n",
      "RangeIndex: 733 entries, 0 to 732\n",
      "Data columns (total 4 columns):\n",
      " #   Column             Non-Null Count  Dtype \n",
      "---  ------             --------------  ----- \n",
      " 0   lgd_state_id       733 non-null    object\n",
      " 1   lgd_state_name     733 non-null    object\n",
      " 2   lgd_district_id    733 non-null    object\n",
      " 3   lgd_district_name  733 non-null    object\n",
      "dtypes: object(4)\n",
      "memory usage: 23.0+ KB\n"
     ]
    }
   ],
   "source": [
    "# Clean the \"lgd_district_key\" table\n",
    "lgd_district_key_cleaned = lgd_district_key[[\"lgd_state_id\", \"lgd_state_name\", \"lgd_district_id\", \"lgd_district_name\"]]\n",
    "lgd_district_key_cleaned = lgd_district_key_cleaned.drop_duplicates()\n",
    "\n",
    "# Check the \"lgd_district_key_cleaned\" table\n",
    "lgd_district_key_cleaned.info()"
   ],
   "metadata": {
    "collapsed": false,
    "ExecuteTime": {
     "end_time": "2024-02-01T17:24:19.771815Z",
     "start_time": "2024-02-01T17:24:19.752442Z"
    }
   },
   "id": "98db8934a3a701b4",
   "execution_count": 3
  },
  {
   "cell_type": "code",
   "outputs": [
    {
     "data": {
      "text/plain": "  pc11_state_id pc11_district_id pc11_subdistrict_id pc11_village_id  \\\n0            01              001               00001          000047   \n1            01              001               00001          000048   \n2            01              001               00001          000049   \n3            01              001               00001          000050   \n4            01              001               00001          000051   \n\n  lgd_state_id lgd_district_id lgd_subdistrict_id lgd_village_id  \\\n0           01             008              00001         000047   \n1           01             008              00001         000048   \n2           01             008              00001         000049   \n3           01             008              00001         000050   \n4           01             008              00001         000051   \n\n                               lgd_pc11_match  \n0  pc11 state/district/subdistrict/village id  \n1  pc11 state/district/subdistrict/village id  \n2  pc11 state/district/subdistrict/village id  \n3  pc11 state/district/subdistrict/village id  \n4  pc11 state/district/subdistrict/village id  ",
      "text/html": "<div>\n<style scoped>\n    .dataframe tbody tr th:only-of-type {\n        vertical-align: middle;\n    }\n\n    .dataframe tbody tr th {\n        vertical-align: top;\n    }\n\n    .dataframe thead th {\n        text-align: right;\n    }\n</style>\n<table border=\"1\" class=\"dataframe\">\n  <thead>\n    <tr style=\"text-align: right;\">\n      <th></th>\n      <th>pc11_state_id</th>\n      <th>pc11_district_id</th>\n      <th>pc11_subdistrict_id</th>\n      <th>pc11_village_id</th>\n      <th>lgd_state_id</th>\n      <th>lgd_district_id</th>\n      <th>lgd_subdistrict_id</th>\n      <th>lgd_village_id</th>\n      <th>lgd_pc11_match</th>\n    </tr>\n  </thead>\n  <tbody>\n    <tr>\n      <th>0</th>\n      <td>01</td>\n      <td>001</td>\n      <td>00001</td>\n      <td>000047</td>\n      <td>01</td>\n      <td>008</td>\n      <td>00001</td>\n      <td>000047</td>\n      <td>pc11 state/district/subdistrict/village id</td>\n    </tr>\n    <tr>\n      <th>1</th>\n      <td>01</td>\n      <td>001</td>\n      <td>00001</td>\n      <td>000048</td>\n      <td>01</td>\n      <td>008</td>\n      <td>00001</td>\n      <td>000048</td>\n      <td>pc11 state/district/subdistrict/village id</td>\n    </tr>\n    <tr>\n      <th>2</th>\n      <td>01</td>\n      <td>001</td>\n      <td>00001</td>\n      <td>000049</td>\n      <td>01</td>\n      <td>008</td>\n      <td>00001</td>\n      <td>000049</td>\n      <td>pc11 state/district/subdistrict/village id</td>\n    </tr>\n    <tr>\n      <th>3</th>\n      <td>01</td>\n      <td>001</td>\n      <td>00001</td>\n      <td>000050</td>\n      <td>01</td>\n      <td>008</td>\n      <td>00001</td>\n      <td>000050</td>\n      <td>pc11 state/district/subdistrict/village id</td>\n    </tr>\n    <tr>\n      <th>4</th>\n      <td>01</td>\n      <td>001</td>\n      <td>00001</td>\n      <td>000051</td>\n      <td>01</td>\n      <td>008</td>\n      <td>00001</td>\n      <td>000051</td>\n      <td>pc11 state/district/subdistrict/village id</td>\n    </tr>\n  </tbody>\n</table>\n</div>"
     },
     "execution_count": 4,
     "metadata": {},
     "output_type": "execute_result"
    }
   ],
   "source": [
    "# Explor the \"lgd_pc11_village_key\" table\n",
    "lgd_pc11_village_key = pd.read_stata(\"../covid_data/keys/lgd_pc11_village_key.dta\")\n",
    "lgd_pc11_village_key.head()"
   ],
   "metadata": {
    "collapsed": false,
    "ExecuteTime": {
     "end_time": "2024-02-01T17:24:20.659874Z",
     "start_time": "2024-02-01T17:24:19.757757Z"
    }
   },
   "id": "5499f2e3a086a72b",
   "execution_count": 4
  },
  {
   "cell_type": "code",
   "outputs": [
    {
     "name": "stdout",
     "output_type": "stream",
     "text": [
      "<class 'pandas.core.frame.DataFrame'>\n",
      "Index: 724 entries, 0 to 635900\n",
      "Data columns (total 4 columns):\n",
      " #   Column            Non-Null Count  Dtype \n",
      "---  ------            --------------  ----- \n",
      " 0   pc11_state_id     724 non-null    object\n",
      " 1   pc11_district_id  724 non-null    object\n",
      " 2   lgd_state_id      724 non-null    object\n",
      " 3   lgd_district_id   724 non-null    object\n",
      "dtypes: object(4)\n",
      "memory usage: 28.3+ KB\n"
     ]
    }
   ],
   "source": [
    "# Clean the \"lgd_pc11_district_key_cleaned\" table\n",
    "lgd_pc11_district_key_cleaned = lgd_pc11_village_key[[\"pc11_state_id\", \"pc11_district_id\", \"lgd_state_id\", \"lgd_district_id\"]]\n",
    "lgd_pc11_district_key_cleaned = lgd_pc11_district_key_cleaned.drop_duplicates()\n",
    "\n",
    "# Check the \"lgd_pc11_district_key_cleaned\" table\n",
    "lgd_pc11_district_key_cleaned.info()"
   ],
   "metadata": {
    "collapsed": false,
    "ExecuteTime": {
     "end_time": "2024-02-01T17:24:20.735094Z",
     "start_time": "2024-02-01T17:24:20.659713Z"
    }
   },
   "id": "c8c25e2bfe48e034",
   "execution_count": 5
  },
  {
   "cell_type": "code",
   "outputs": [
    {
     "data": {
      "text/plain": "  pc11_state_id pc11_state_name pc01_state_id pc01_state_name  \\\n0            01   jammu kashmir            01   jammu kashmir   \n1            01   jammu kashmir            01   jammu kashmir   \n2            01   jammu kashmir            01   jammu kashmir   \n3            01   jammu kashmir            01   jammu kashmir   \n4            01   jammu kashmir            01   jammu kashmir   \n\n  pc11_district_id pc11_district_name pc01_district_id pc01_district_name  \n0              001            kupwara               01            kupwara  \n1              008           baramula               02           baramula  \n2              009          bandipore               02           baramula  \n3              011          ganderbal               02           baramula  \n4              010           srinagar               03           srinagar  ",
      "text/html": "<div>\n<style scoped>\n    .dataframe tbody tr th:only-of-type {\n        vertical-align: middle;\n    }\n\n    .dataframe tbody tr th {\n        vertical-align: top;\n    }\n\n    .dataframe thead th {\n        text-align: right;\n    }\n</style>\n<table border=\"1\" class=\"dataframe\">\n  <thead>\n    <tr style=\"text-align: right;\">\n      <th></th>\n      <th>pc11_state_id</th>\n      <th>pc11_state_name</th>\n      <th>pc01_state_id</th>\n      <th>pc01_state_name</th>\n      <th>pc11_district_id</th>\n      <th>pc11_district_name</th>\n      <th>pc01_district_id</th>\n      <th>pc01_district_name</th>\n    </tr>\n  </thead>\n  <tbody>\n    <tr>\n      <th>0</th>\n      <td>01</td>\n      <td>jammu kashmir</td>\n      <td>01</td>\n      <td>jammu kashmir</td>\n      <td>001</td>\n      <td>kupwara</td>\n      <td>01</td>\n      <td>kupwara</td>\n    </tr>\n    <tr>\n      <th>1</th>\n      <td>01</td>\n      <td>jammu kashmir</td>\n      <td>01</td>\n      <td>jammu kashmir</td>\n      <td>008</td>\n      <td>baramula</td>\n      <td>02</td>\n      <td>baramula</td>\n    </tr>\n    <tr>\n      <th>2</th>\n      <td>01</td>\n      <td>jammu kashmir</td>\n      <td>01</td>\n      <td>jammu kashmir</td>\n      <td>009</td>\n      <td>bandipore</td>\n      <td>02</td>\n      <td>baramula</td>\n    </tr>\n    <tr>\n      <th>3</th>\n      <td>01</td>\n      <td>jammu kashmir</td>\n      <td>01</td>\n      <td>jammu kashmir</td>\n      <td>011</td>\n      <td>ganderbal</td>\n      <td>02</td>\n      <td>baramula</td>\n    </tr>\n    <tr>\n      <th>4</th>\n      <td>01</td>\n      <td>jammu kashmir</td>\n      <td>01</td>\n      <td>jammu kashmir</td>\n      <td>010</td>\n      <td>srinagar</td>\n      <td>03</td>\n      <td>srinagar</td>\n    </tr>\n  </tbody>\n</table>\n</div>"
     },
     "execution_count": 6,
     "metadata": {},
     "output_type": "execute_result"
    }
   ],
   "source": [
    "# Explor the \"pc11_district_key\" table\n",
    "pc11_district_key = pd.read_stata(\"../covid_data/keys/pc11_district_key.dta\")\n",
    "pc11_district_key.head()"
   ],
   "metadata": {
    "collapsed": false,
    "ExecuteTime": {
     "end_time": "2024-02-01T17:24:20.745087Z",
     "start_time": "2024-02-01T17:24:20.735728Z"
    }
   },
   "id": "9139fcd117905909",
   "execution_count": 6
  },
  {
   "cell_type": "code",
   "outputs": [
    {
     "name": "stdout",
     "output_type": "stream",
     "text": [
      "<class 'pandas.core.frame.DataFrame'>\n",
      "RangeIndex: 640 entries, 0 to 639\n",
      "Data columns (total 4 columns):\n",
      " #   Column              Non-Null Count  Dtype \n",
      "---  ------              --------------  ----- \n",
      " 0   pc11_state_id       640 non-null    object\n",
      " 1   pc11_state_name     640 non-null    object\n",
      " 2   pc11_district_id    640 non-null    object\n",
      " 3   pc11_district_name  640 non-null    object\n",
      "dtypes: object(4)\n",
      "memory usage: 20.1+ KB\n"
     ]
    }
   ],
   "source": [
    "# Clean the \"pc11_district_key_cleaned\" table\n",
    "pc11_district_key_cleaned = pc11_district_key[[\"pc11_state_id\", \"pc11_state_name\", \"pc11_district_id\", \"pc11_district_name\"]]\n",
    "pc11_district_key_cleaned = pc11_district_key_cleaned.drop_duplicates()\n",
    "\n",
    "# Check the \"pc11_district_key_cleaned\" table\n",
    "pc11_district_key_cleaned.info()"
   ],
   "metadata": {
    "collapsed": false,
    "ExecuteTime": {
     "end_time": "2024-02-01T17:24:20.748322Z",
     "start_time": "2024-02-01T17:24:20.744133Z"
    }
   },
   "id": "3491e09fb79765ee",
   "execution_count": 7
  },
  {
   "cell_type": "code",
   "outputs": [
    {
     "name": "stdout",
     "output_type": "stream",
     "text": [
      "<class 'pandas.core.frame.DataFrame'>\n",
      "RangeIndex: 734 entries, 0 to 733\n",
      "Data columns (total 10 columns):\n",
      " #   Column              Non-Null Count  Dtype \n",
      "---  ------              --------------  ----- \n",
      " 0   lgd_state_id_x      734 non-null    object\n",
      " 1   lgd_state_name      734 non-null    object\n",
      " 2   lgd_district_id     734 non-null    object\n",
      " 3   lgd_district_name   734 non-null    object\n",
      " 4   pc11_state_id_x     724 non-null    object\n",
      " 5   pc11_district_id    724 non-null    object\n",
      " 6   lgd_state_id_y      724 non-null    object\n",
      " 7   pc11_state_id_y     721 non-null    object\n",
      " 8   pc11_state_name     721 non-null    object\n",
      " 9   pc11_district_name  721 non-null    object\n",
      "dtypes: object(10)\n",
      "memory usage: 57.5+ KB\n"
     ]
    }
   ],
   "source": [
    "# Create the query table of state\\district and their lgd_id, pc11_id, pc01_id by merging the above tables\n",
    "district_key = pd.merge(lgd_district_key_cleaned, lgd_pc11_district_key_cleaned, on=[\"lgd_district_id\"], how=\"left\")\n",
    "district_key = pd.merge(district_key, pc11_district_key_cleaned, on=[\"pc11_district_id\"], how=\"left\")\n",
    "\n",
    "# Check \"district_key\" table\n",
    "district_key.info()"
   ],
   "metadata": {
    "collapsed": false,
    "ExecuteTime": {
     "end_time": "2024-02-01T17:24:20.770662Z",
     "start_time": "2024-02-01T17:24:20.749404Z"
    }
   },
   "id": "3fe6c5d5d974651c",
   "execution_count": 8
  },
  {
   "cell_type": "code",
   "outputs": [
    {
     "name": "stdout",
     "output_type": "stream",
     "text": [
      "<class 'pandas.core.frame.DataFrame'>\n",
      "RangeIndex: 734 entries, 0 to 733\n",
      "Data columns (total 8 columns):\n",
      " #   Column              Non-Null Count  Dtype \n",
      "---  ------              --------------  ----- \n",
      " 0   lgd_state_id        734 non-null    object\n",
      " 1   lgd_state_name      734 non-null    object\n",
      " 2   lgd_district_id     734 non-null    object\n",
      " 3   lgd_district_name   734 non-null    object\n",
      " 4   pc11_state_id       724 non-null    object\n",
      " 5   pc11_district_id    724 non-null    object\n",
      " 6   pc11_state_name     721 non-null    object\n",
      " 7   pc11_district_name  721 non-null    object\n",
      "dtypes: object(8)\n",
      "memory usage: 46.0+ KB\n"
     ]
    }
   ],
   "source": [
    "# Clean the query table\n",
    "def compare_and_update_columns(df, col_x, col_y):\n",
    "    # List to store mismatched rows' indices\n",
    "    mismatched_rows = []\n",
    "\n",
    "    # Check whether both columns exist\n",
    "    if col_x in df.columns and col_y in df.columns:\n",
    "        # Compare col_x and col_y, and ignore if one of them is Nan\n",
    "        mismatches = df[(~pd.isna(df[col_x])) & (~pd.isna(df[col_y])) & (df[col_x] != df[col_y])]\n",
    "        if not mismatches.empty:\n",
    "            mismatched_rows.extend(mismatches.index.tolist())\n",
    "            print(f\"Columns {col_x} and {col_y} mismatch on rows: {mismatches.index.tolist()}\")\n",
    "        else:\n",
    "            # If they are the same, drop the col_y, rename and keep col_x\n",
    "            new_col_name = col_x.rstrip(\"_x\")\n",
    "            df.rename(columns={col_x: new_col_name}, inplace=True)\n",
    "            df.drop(col_y, axis=1, inplace=True)\n",
    "    else:\n",
    "        raise ValueError(f\"One or both columns {col_x} or {col_y} do not exist in the DataFrame.\")\n",
    "    \n",
    "    return df\n",
    "\n",
    "district_key = compare_and_update_columns(district_key, \"lgd_state_id_x\", \"lgd_state_id_y\")\n",
    "district_key = compare_and_update_columns(district_key, \"pc11_state_id_x\", \"pc11_state_id_y\")\n",
    "\n",
    "# Check the \"district_key\" table \n",
    "district_key.info()"
   ],
   "metadata": {
    "collapsed": false,
    "ExecuteTime": {
     "end_time": "2024-02-01T17:24:20.771712Z",
     "start_time": "2024-02-01T17:24:20.757755Z"
    }
   },
   "id": "9ebba9793a1c452a",
   "execution_count": 9
  },
  {
   "cell_type": "code",
   "outputs": [
    {
     "name": "stdout",
     "output_type": "stream",
     "text": [
      "<class 'pandas.core.frame.DataFrame'>\n",
      "Index: 724 entries, 0 to 733\n",
      "Data columns (total 8 columns):\n",
      " #   Column              Non-Null Count  Dtype \n",
      "---  ------              --------------  ----- \n",
      " 0   lgd_state_id        724 non-null    object\n",
      " 1   lgd_state_name      724 non-null    object\n",
      " 2   lgd_district_id     724 non-null    object\n",
      " 3   lgd_district_name   724 non-null    object\n",
      " 4   pc11_state_id       724 non-null    object\n",
      " 5   pc11_district_id    724 non-null    object\n",
      " 6   pc11_state_name     721 non-null    object\n",
      " 7   pc11_district_name  721 non-null    object\n",
      "dtypes: object(8)\n",
      "memory usage: 50.9+ KB\n"
     ]
    }
   ],
   "source": [
    "# Clean the \"district_key\" table, drop the rows with nan pc11_id\n",
    "district_key = district_key.dropna(subset=[\"pc11_state_id\", \"pc11_district_id\"])\n",
    "\n",
    "# Check the \"district_key\" table\n",
    "district_key.info()"
   ],
   "metadata": {
    "collapsed": false,
    "ExecuteTime": {
     "end_time": "2024-02-01T17:24:20.780998Z",
     "start_time": "2024-02-01T17:24:20.762633Z"
    }
   },
   "id": "b5b57ad41aa5ce7b",
   "execution_count": 10
  },
  {
   "cell_type": "code",
   "outputs": [
    {
     "name": "stdout",
     "output_type": "stream",
     "text": [
      "<class 'geopandas.geodataframe.GeoDataFrame'>\n",
      "RangeIndex: 641 entries, 0 to 640\n",
      "Data columns (total 4 columns):\n",
      " #   Column     Non-Null Count  Dtype   \n",
      "---  ------     --------------  -----   \n",
      " 0   pc11_s_id  641 non-null    object  \n",
      " 1   pc11_d_id  641 non-null    object  \n",
      " 2   d_name     640 non-null    object  \n",
      " 3   geometry   641 non-null    geometry\n",
      "dtypes: geometry(1), object(3)\n",
      "memory usage: 20.2+ KB\n"
     ]
    }
   ],
   "source": [
    "# Explore shapefile data (district level)\n",
    "import geopandas as gpd\n",
    "\n",
    "district_shp = gpd.read_file(\"../shrug-pc11dist-poly-shp/district.shp\")\n",
    "\n",
    "# Check the \"district_shp\" table\n",
    "district_shp.info()"
   ],
   "metadata": {
    "collapsed": false,
    "ExecuteTime": {
     "end_time": "2024-02-01T17:24:24.178375Z",
     "start_time": "2024-02-01T17:24:20.767869Z"
    }
   },
   "id": "1f2fe94afbf965f7",
   "execution_count": 11
  },
  {
   "cell_type": "code",
   "outputs": [],
   "source": [
    "# Merge the shp and the query table\n",
    "district_key_with_polygon = pd.merge(district_key, district_shp, left_on=\"pc11_district_id\", right_on=\"pc11_d_id\", how=\"left\")\n",
    "\n",
    "# Check the \"district_key_with_polygon\" table\n",
    "district_key_with_polygon.head()\n",
    "\n",
    "# Turn the values in \"d_name\" column into lowercase for the subsequence operations\n",
    "district_key_with_polygon[\"d_name\"] = district_key_with_polygon[\"d_name\"].str.lower()"
   ],
   "metadata": {
    "collapsed": false,
    "ExecuteTime": {
     "end_time": "2024-02-01T17:24:24.182697Z",
     "start_time": "2024-02-01T17:24:24.178606Z"
    }
   },
   "id": "743008fe1421cd70",
   "execution_count": 12
  },
  {
   "cell_type": "code",
   "outputs": [
    {
     "name": "stdout",
     "output_type": "stream",
     "text": [
      "Columns pc11_district_name and d_name mismatch on rows: [26, 191, 218, 245, 404, 444, 481, 490, 553, 590, 689, 723]\n"
     ]
    }
   ],
   "source": [
    "# Clean the merged table\n",
    "# Drop the rows with nan value\n",
    "district_key_with_polygon = district_key_with_polygon.dropna()\n",
    "\n",
    "district_key_with_polygon = compare_and_update_columns(district_key_with_polygon, \"pc11_state_id\", \"pc11_s_id\")\n",
    "district_key_with_polygon = compare_and_update_columns(district_key_with_polygon, \"pc11_district_id\", \"pc11_d_id\")\n",
    "district_key_with_polygon = compare_and_update_columns(district_key_with_polygon, \"pc11_district_name\", \"d_name\")\n",
    "\n"
   ],
   "metadata": {
    "collapsed": false,
    "ExecuteTime": {
     "end_time": "2024-02-01T17:24:24.188107Z",
     "start_time": "2024-02-01T17:24:24.183365Z"
    }
   },
   "id": "f0fb6d954a24023e",
   "execution_count": 13
  },
  {
   "cell_type": "code",
   "outputs": [
    {
     "data": {
      "text/plain": "             pc11_district_name                        d_name\n26                  lahul spiti                 lahul & spiti\n191  sant ravidas nagar bhadohi  sant ravidas nagar (bhadohi)\n218               kaimur bhabua               kaimur (bhabua)\n245              north district               north  district\n404         saraikela kharsawan           saraikela-kharsawan\n444              janjgir champa              janjgir - champa\n481                  east nimar          khandwa (east nimar)\n490                  west nimar         khargone (west nimar)\n553          dadra nagar haveli          dadra & nagar haveli\n590                  ysr kadapa                        y.s.r.\n689        north middle andaman       north  & middle andaman\n723                  leh ladakh                   leh(ladakh)",
      "text/html": "<div>\n<style scoped>\n    .dataframe tbody tr th:only-of-type {\n        vertical-align: middle;\n    }\n\n    .dataframe tbody tr th {\n        vertical-align: top;\n    }\n\n    .dataframe thead th {\n        text-align: right;\n    }\n</style>\n<table border=\"1\" class=\"dataframe\">\n  <thead>\n    <tr style=\"text-align: right;\">\n      <th></th>\n      <th>pc11_district_name</th>\n      <th>d_name</th>\n    </tr>\n  </thead>\n  <tbody>\n    <tr>\n      <th>26</th>\n      <td>lahul spiti</td>\n      <td>lahul &amp; spiti</td>\n    </tr>\n    <tr>\n      <th>191</th>\n      <td>sant ravidas nagar bhadohi</td>\n      <td>sant ravidas nagar (bhadohi)</td>\n    </tr>\n    <tr>\n      <th>218</th>\n      <td>kaimur bhabua</td>\n      <td>kaimur (bhabua)</td>\n    </tr>\n    <tr>\n      <th>245</th>\n      <td>north district</td>\n      <td>north  district</td>\n    </tr>\n    <tr>\n      <th>404</th>\n      <td>saraikela kharsawan</td>\n      <td>saraikela-kharsawan</td>\n    </tr>\n    <tr>\n      <th>444</th>\n      <td>janjgir champa</td>\n      <td>janjgir - champa</td>\n    </tr>\n    <tr>\n      <th>481</th>\n      <td>east nimar</td>\n      <td>khandwa (east nimar)</td>\n    </tr>\n    <tr>\n      <th>490</th>\n      <td>west nimar</td>\n      <td>khargone (west nimar)</td>\n    </tr>\n    <tr>\n      <th>553</th>\n      <td>dadra nagar haveli</td>\n      <td>dadra &amp; nagar haveli</td>\n    </tr>\n    <tr>\n      <th>590</th>\n      <td>ysr kadapa</td>\n      <td>y.s.r.</td>\n    </tr>\n    <tr>\n      <th>689</th>\n      <td>north middle andaman</td>\n      <td>north  &amp; middle andaman</td>\n    </tr>\n    <tr>\n      <th>723</th>\n      <td>leh ladakh</td>\n      <td>leh(ladakh)</td>\n    </tr>\n  </tbody>\n</table>\n</div>"
     },
     "execution_count": 14,
     "metadata": {},
     "output_type": "execute_result"
    }
   ],
   "source": [
    "# There are 12 rows, which \"pc11_district_name\" and \"d_name\" are different, so the manually checking is conducted\n",
    "district_key_with_polygon.loc[[26, 191, 218, 245, 404, 444, 481, 490, 553, 590, 689, 723]][[\"pc11_district_name\", \"d_name\"]]"
   ],
   "metadata": {
    "collapsed": false,
    "ExecuteTime": {
     "end_time": "2024-02-01T17:24:24.192564Z",
     "start_time": "2024-02-01T17:24:24.190404Z"
    }
   },
   "id": "b5656d0b3ed0f84b",
   "execution_count": 14
  },
  {
   "cell_type": "code",
   "outputs": [
    {
     "name": "stdout",
     "output_type": "stream",
     "text": [
      "<class 'pandas.core.frame.DataFrame'>\n",
      "Index: 721 entries, 0 to 723\n",
      "Data columns (total 9 columns):\n",
      " #   Column              Non-Null Count  Dtype   \n",
      "---  ------              --------------  -----   \n",
      " 0   lgd_state_id        721 non-null    object  \n",
      " 1   lgd_state_name      721 non-null    object  \n",
      " 2   lgd_district_id     721 non-null    object  \n",
      " 3   lgd_district_name   721 non-null    object  \n",
      " 4   pc11_state_id       721 non-null    object  \n",
      " 5   pc11_district_id    721 non-null    object  \n",
      " 6   pc11_state_name     721 non-null    object  \n",
      " 7   pc11_district_name  721 non-null    object  \n",
      " 8   geometry            721 non-null    geometry\n",
      "dtypes: geometry(1), object(8)\n",
      "memory usage: 72.5+ KB\n"
     ]
    }
   ],
   "source": [
    "# As they are basically same, the \"d_name\" is dropped\n",
    "district_key_with_polygon = district_key_with_polygon.drop(\"d_name\", axis=1)\n",
    "\n",
    "# Check the \"district_key_with_polygon\" table\n",
    "district_key_with_polygon.info()"
   ],
   "metadata": {
    "collapsed": false,
    "ExecuteTime": {
     "end_time": "2024-02-01T17:24:24.197352Z",
     "start_time": "2024-02-01T17:24:24.192552Z"
    }
   },
   "id": "20d7d12a472c54be",
   "execution_count": 15
  },
  {
   "cell_type": "code",
   "outputs": [],
   "source": [
    "district_key_with_polygon.rename(columns={\"lgd_state_id\": \"lgd_sta_id\",\n",
    "                                          \"lgd_state_name\": \"lgd_sta_na\",\n",
    "                                          \"lgd_district_id\": \"lgd_dis_id\",\n",
    "                                          \"lgd_district_name\": \"lgd_dis_na\",\n",
    "                                          \"pc11_state_id\": \"pc11_st_id\",\n",
    "                                          \"pc11_district_id\": \"pc11_di_id\",\n",
    "                                          \"pc11_state_name\": \"pc11_st_na\",\n",
    "                                          \"pc11_district_name\": \"pc11_di_na\"}, inplace=True)"
   ],
   "metadata": {
    "collapsed": false,
    "ExecuteTime": {
     "end_time": "2024-02-01T17:24:24.212758Z",
     "start_time": "2024-02-01T17:24:24.197738Z"
    }
   },
   "id": "b7757f1e34808dff",
   "execution_count": 16
  },
  {
   "cell_type": "code",
   "outputs": [],
   "source": [
    "# Export the \"district_key_with_polygon\" table to shapefile\n",
    "district_key_with_polygon = gpd.GeoDataFrame(district_key_with_polygon, geometry=\"geometry\")\n",
    "os.mkdir(\"./district_key_table_shp\")\n",
    "district_key_with_polygon.to_file(\"./district_key_table_shp/district_key_table_shp.shp\", driver=\"ESRI Shapefile\")"
   ],
   "metadata": {
    "collapsed": false,
    "ExecuteTime": {
     "end_time": "2024-02-01T17:24:24.810428Z",
     "start_time": "2024-02-01T17:24:24.200088Z"
    }
   },
   "id": "ac5094c8a15244f",
   "execution_count": 17
  }
 ],
 "metadata": {
  "kernelspec": {
   "display_name": "Python 3",
   "language": "python",
   "name": "python3"
  },
  "language_info": {
   "codemirror_mode": {
    "name": "ipython",
    "version": 2
   },
   "file_extension": ".py",
   "mimetype": "text/x-python",
   "name": "python",
   "nbconvert_exporter": "python",
   "pygments_lexer": "ipython2",
   "version": "2.7.6"
  }
 },
 "nbformat": 4,
 "nbformat_minor": 5
}
