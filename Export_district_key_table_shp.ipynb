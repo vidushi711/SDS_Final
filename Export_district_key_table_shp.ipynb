{
 "cells": [
  {
   "cell_type": "code",
   "execution_count": 29,
   "id": "initial_id",
   "metadata": {
    "collapsed": true,
    "ExecuteTime": {
     "end_time": "2024-02-02T18:36:34.967256Z",
     "start_time": "2024-02-02T18:36:34.954626Z"
    }
   },
   "outputs": [],
   "source": [
    "import pandas as pd\n",
    "import os"
   ]
  },
  {
   "cell_type": "code",
   "outputs": [
    {
     "data": {
      "text/plain": "  lgd_state_id     lgd_state_name lgd_district_id  lgd_district_version  \\\n0           01  jammu and kashmir             001                     1   \n1           01  jammu and kashmir             002                     2   \n2           01  jammu and kashmir             003                     1   \n3           01  jammu and kashmir             004                     1   \n4           01  jammu and kashmir             005                     1   \n\n  lgd_district_name lgd_district_name_local  \n0          anantnag                ANANTNAG  \n1            budgam                          \n2         baramulla               BARAMULLA  \n3              doda                    DODA  \n4             jammu                   JAMMU  ",
      "text/html": "<div>\n<style scoped>\n    .dataframe tbody tr th:only-of-type {\n        vertical-align: middle;\n    }\n\n    .dataframe tbody tr th {\n        vertical-align: top;\n    }\n\n    .dataframe thead th {\n        text-align: right;\n    }\n</style>\n<table border=\"1\" class=\"dataframe\">\n  <thead>\n    <tr style=\"text-align: right;\">\n      <th></th>\n      <th>lgd_state_id</th>\n      <th>lgd_state_name</th>\n      <th>lgd_district_id</th>\n      <th>lgd_district_version</th>\n      <th>lgd_district_name</th>\n      <th>lgd_district_name_local</th>\n    </tr>\n  </thead>\n  <tbody>\n    <tr>\n      <th>0</th>\n      <td>01</td>\n      <td>jammu and kashmir</td>\n      <td>001</td>\n      <td>1</td>\n      <td>anantnag</td>\n      <td>ANANTNAG</td>\n    </tr>\n    <tr>\n      <th>1</th>\n      <td>01</td>\n      <td>jammu and kashmir</td>\n      <td>002</td>\n      <td>2</td>\n      <td>budgam</td>\n      <td></td>\n    </tr>\n    <tr>\n      <th>2</th>\n      <td>01</td>\n      <td>jammu and kashmir</td>\n      <td>003</td>\n      <td>1</td>\n      <td>baramulla</td>\n      <td>BARAMULLA</td>\n    </tr>\n    <tr>\n      <th>3</th>\n      <td>01</td>\n      <td>jammu and kashmir</td>\n      <td>004</td>\n      <td>1</td>\n      <td>doda</td>\n      <td>DODA</td>\n    </tr>\n    <tr>\n      <th>4</th>\n      <td>01</td>\n      <td>jammu and kashmir</td>\n      <td>005</td>\n      <td>1</td>\n      <td>jammu</td>\n      <td>JAMMU</td>\n    </tr>\n  </tbody>\n</table>\n</div>"
     },
     "execution_count": 30,
     "metadata": {},
     "output_type": "execute_result"
    }
   ],
   "source": [
    "# Explor the \"lgd_district_key\" table\n",
    "lgd_district_key = pd.read_stata(\"../covid_data/keys/lgd_district_key.dta\")\n",
    "lgd_district_key.head()"
   ],
   "metadata": {
    "collapsed": false,
    "ExecuteTime": {
     "end_time": "2024-02-02T18:36:34.994064Z",
     "start_time": "2024-02-02T18:36:34.971158Z"
    }
   },
   "id": "91187914efb9432b",
   "execution_count": 30
  },
  {
   "cell_type": "code",
   "outputs": [
    {
     "name": "stdout",
     "output_type": "stream",
     "text": [
      "<class 'pandas.core.frame.DataFrame'>\n",
      "RangeIndex: 733 entries, 0 to 732\n",
      "Data columns (total 4 columns):\n",
      " #   Column             Non-Null Count  Dtype \n",
      "---  ------             --------------  ----- \n",
      " 0   lgd_state_id       733 non-null    object\n",
      " 1   lgd_state_name     733 non-null    object\n",
      " 2   lgd_district_id    733 non-null    object\n",
      " 3   lgd_district_name  733 non-null    object\n",
      "dtypes: object(4)\n",
      "memory usage: 23.0+ KB\n"
     ]
    }
   ],
   "source": [
    "# Clean the \"lgd_district_key\" table\n",
    "lgd_district_key_cleaned = lgd_district_key[[\"lgd_state_id\", \"lgd_state_name\", \"lgd_district_id\", \"lgd_district_name\"]]\n",
    "lgd_district_key_cleaned = lgd_district_key_cleaned.drop_duplicates()\n",
    "\n",
    "# Check the \"lgd_district_key_cleaned\" table\n",
    "lgd_district_key_cleaned.info()"
   ],
   "metadata": {
    "collapsed": false,
    "ExecuteTime": {
     "end_time": "2024-02-02T18:36:34.994481Z",
     "start_time": "2024-02-02T18:36:34.982030Z"
    }
   },
   "id": "98db8934a3a701b4",
   "execution_count": 31
  },
  {
   "cell_type": "code",
   "outputs": [
    {
     "data": {
      "text/plain": "  pc11_state_id pc11_district_id pc11_subdistrict_id pc11_village_id  \\\n0            01              001               00001          000047   \n1            01              001               00001          000048   \n2            01              001               00001          000049   \n3            01              001               00001          000050   \n4            01              001               00001          000051   \n\n  lgd_state_id lgd_district_id lgd_subdistrict_id lgd_village_id  \\\n0           01             008              00001         000047   \n1           01             008              00001         000048   \n2           01             008              00001         000049   \n3           01             008              00001         000050   \n4           01             008              00001         000051   \n\n                               lgd_pc11_match  \n0  pc11 state/district/subdistrict/village id  \n1  pc11 state/district/subdistrict/village id  \n2  pc11 state/district/subdistrict/village id  \n3  pc11 state/district/subdistrict/village id  \n4  pc11 state/district/subdistrict/village id  ",
      "text/html": "<div>\n<style scoped>\n    .dataframe tbody tr th:only-of-type {\n        vertical-align: middle;\n    }\n\n    .dataframe tbody tr th {\n        vertical-align: top;\n    }\n\n    .dataframe thead th {\n        text-align: right;\n    }\n</style>\n<table border=\"1\" class=\"dataframe\">\n  <thead>\n    <tr style=\"text-align: right;\">\n      <th></th>\n      <th>pc11_state_id</th>\n      <th>pc11_district_id</th>\n      <th>pc11_subdistrict_id</th>\n      <th>pc11_village_id</th>\n      <th>lgd_state_id</th>\n      <th>lgd_district_id</th>\n      <th>lgd_subdistrict_id</th>\n      <th>lgd_village_id</th>\n      <th>lgd_pc11_match</th>\n    </tr>\n  </thead>\n  <tbody>\n    <tr>\n      <th>0</th>\n      <td>01</td>\n      <td>001</td>\n      <td>00001</td>\n      <td>000047</td>\n      <td>01</td>\n      <td>008</td>\n      <td>00001</td>\n      <td>000047</td>\n      <td>pc11 state/district/subdistrict/village id</td>\n    </tr>\n    <tr>\n      <th>1</th>\n      <td>01</td>\n      <td>001</td>\n      <td>00001</td>\n      <td>000048</td>\n      <td>01</td>\n      <td>008</td>\n      <td>00001</td>\n      <td>000048</td>\n      <td>pc11 state/district/subdistrict/village id</td>\n    </tr>\n    <tr>\n      <th>2</th>\n      <td>01</td>\n      <td>001</td>\n      <td>00001</td>\n      <td>000049</td>\n      <td>01</td>\n      <td>008</td>\n      <td>00001</td>\n      <td>000049</td>\n      <td>pc11 state/district/subdistrict/village id</td>\n    </tr>\n    <tr>\n      <th>3</th>\n      <td>01</td>\n      <td>001</td>\n      <td>00001</td>\n      <td>000050</td>\n      <td>01</td>\n      <td>008</td>\n      <td>00001</td>\n      <td>000050</td>\n      <td>pc11 state/district/subdistrict/village id</td>\n    </tr>\n    <tr>\n      <th>4</th>\n      <td>01</td>\n      <td>001</td>\n      <td>00001</td>\n      <td>000051</td>\n      <td>01</td>\n      <td>008</td>\n      <td>00001</td>\n      <td>000051</td>\n      <td>pc11 state/district/subdistrict/village id</td>\n    </tr>\n  </tbody>\n</table>\n</div>"
     },
     "execution_count": 32,
     "metadata": {},
     "output_type": "execute_result"
    }
   ],
   "source": [
    "# Explor the \"lgd_pc11_village_key\" table\n",
    "lgd_pc11_village_key = pd.read_stata(\"../covid_data/keys/lgd_pc11_village_key.dta\")\n",
    "lgd_pc11_village_key.head()"
   ],
   "metadata": {
    "collapsed": false,
    "ExecuteTime": {
     "end_time": "2024-02-02T18:36:35.930067Z",
     "start_time": "2024-02-02T18:36:34.997140Z"
    }
   },
   "id": "5499f2e3a086a72b",
   "execution_count": 32
  },
  {
   "cell_type": "code",
   "outputs": [
    {
     "name": "stdout",
     "output_type": "stream",
     "text": [
      "<class 'pandas.core.frame.DataFrame'>\n",
      "Index: 724 entries, 0 to 635900\n",
      "Data columns (total 4 columns):\n",
      " #   Column            Non-Null Count  Dtype \n",
      "---  ------            --------------  ----- \n",
      " 0   pc11_state_id     724 non-null    object\n",
      " 1   pc11_district_id  724 non-null    object\n",
      " 2   lgd_state_id      724 non-null    object\n",
      " 3   lgd_district_id   724 non-null    object\n",
      "dtypes: object(4)\n",
      "memory usage: 28.3+ KB\n"
     ]
    }
   ],
   "source": [
    "# Clean the \"lgd_pc11_district_key_cleaned\" table\n",
    "lgd_pc11_district_key_cleaned = lgd_pc11_village_key[[\"pc11_state_id\", \"pc11_district_id\", \"lgd_state_id\", \"lgd_district_id\"]]\n",
    "lgd_pc11_district_key_cleaned = lgd_pc11_district_key_cleaned.drop_duplicates()\n",
    "\n",
    "# Check the \"lgd_pc11_district_key_cleaned\" table\n",
    "lgd_pc11_district_key_cleaned.info()"
   ],
   "metadata": {
    "collapsed": false,
    "ExecuteTime": {
     "end_time": "2024-02-02T18:36:36.009039Z",
     "start_time": "2024-02-02T18:36:35.929196Z"
    }
   },
   "id": "c8c25e2bfe48e034",
   "execution_count": 33
  },
  {
   "cell_type": "code",
   "outputs": [
    {
     "data": {
      "text/plain": "  pc11_state_id pc11_state_name pc01_state_id pc01_state_name  \\\n0            01   jammu kashmir            01   jammu kashmir   \n1            01   jammu kashmir            01   jammu kashmir   \n2            01   jammu kashmir            01   jammu kashmir   \n3            01   jammu kashmir            01   jammu kashmir   \n4            01   jammu kashmir            01   jammu kashmir   \n\n  pc11_district_id pc11_district_name pc01_district_id pc01_district_name  \n0              001            kupwara               01            kupwara  \n1              008           baramula               02           baramula  \n2              009          bandipore               02           baramula  \n3              011          ganderbal               02           baramula  \n4              010           srinagar               03           srinagar  ",
      "text/html": "<div>\n<style scoped>\n    .dataframe tbody tr th:only-of-type {\n        vertical-align: middle;\n    }\n\n    .dataframe tbody tr th {\n        vertical-align: top;\n    }\n\n    .dataframe thead th {\n        text-align: right;\n    }\n</style>\n<table border=\"1\" class=\"dataframe\">\n  <thead>\n    <tr style=\"text-align: right;\">\n      <th></th>\n      <th>pc11_state_id</th>\n      <th>pc11_state_name</th>\n      <th>pc01_state_id</th>\n      <th>pc01_state_name</th>\n      <th>pc11_district_id</th>\n      <th>pc11_district_name</th>\n      <th>pc01_district_id</th>\n      <th>pc01_district_name</th>\n    </tr>\n  </thead>\n  <tbody>\n    <tr>\n      <th>0</th>\n      <td>01</td>\n      <td>jammu kashmir</td>\n      <td>01</td>\n      <td>jammu kashmir</td>\n      <td>001</td>\n      <td>kupwara</td>\n      <td>01</td>\n      <td>kupwara</td>\n    </tr>\n    <tr>\n      <th>1</th>\n      <td>01</td>\n      <td>jammu kashmir</td>\n      <td>01</td>\n      <td>jammu kashmir</td>\n      <td>008</td>\n      <td>baramula</td>\n      <td>02</td>\n      <td>baramula</td>\n    </tr>\n    <tr>\n      <th>2</th>\n      <td>01</td>\n      <td>jammu kashmir</td>\n      <td>01</td>\n      <td>jammu kashmir</td>\n      <td>009</td>\n      <td>bandipore</td>\n      <td>02</td>\n      <td>baramula</td>\n    </tr>\n    <tr>\n      <th>3</th>\n      <td>01</td>\n      <td>jammu kashmir</td>\n      <td>01</td>\n      <td>jammu kashmir</td>\n      <td>011</td>\n      <td>ganderbal</td>\n      <td>02</td>\n      <td>baramula</td>\n    </tr>\n    <tr>\n      <th>4</th>\n      <td>01</td>\n      <td>jammu kashmir</td>\n      <td>01</td>\n      <td>jammu kashmir</td>\n      <td>010</td>\n      <td>srinagar</td>\n      <td>03</td>\n      <td>srinagar</td>\n    </tr>\n  </tbody>\n</table>\n</div>"
     },
     "execution_count": 34,
     "metadata": {},
     "output_type": "execute_result"
    }
   ],
   "source": [
    "# Explor the \"pc11_district_key\" table\n",
    "pc11_district_key = pd.read_stata(\"../covid_data/keys/pc11_district_key.dta\")\n",
    "pc11_district_key.head()"
   ],
   "metadata": {
    "collapsed": false,
    "ExecuteTime": {
     "end_time": "2024-02-02T18:36:36.021926Z",
     "start_time": "2024-02-02T18:36:36.009449Z"
    }
   },
   "id": "9139fcd117905909",
   "execution_count": 34
  },
  {
   "cell_type": "code",
   "outputs": [
    {
     "name": "stdout",
     "output_type": "stream",
     "text": [
      "<class 'pandas.core.frame.DataFrame'>\n",
      "RangeIndex: 640 entries, 0 to 639\n",
      "Data columns (total 4 columns):\n",
      " #   Column              Non-Null Count  Dtype \n",
      "---  ------              --------------  ----- \n",
      " 0   pc11_state_id       640 non-null    object\n",
      " 1   pc11_state_name     640 non-null    object\n",
      " 2   pc11_district_id    640 non-null    object\n",
      " 3   pc11_district_name  640 non-null    object\n",
      "dtypes: object(4)\n",
      "memory usage: 20.1+ KB\n"
     ]
    }
   ],
   "source": [
    "# Clean the \"pc11_district_key_cleaned\" table\n",
    "pc11_district_key_cleaned = pc11_district_key[[\"pc11_state_id\", \"pc11_state_name\", \"pc11_district_id\", \"pc11_district_name\"]]\n",
    "pc11_district_key_cleaned = pc11_district_key_cleaned.drop_duplicates()\n",
    "\n",
    "# Check the \"pc11_district_key_cleaned\" table\n",
    "pc11_district_key_cleaned.info()"
   ],
   "metadata": {
    "collapsed": false,
    "ExecuteTime": {
     "end_time": "2024-02-02T18:36:36.025227Z",
     "start_time": "2024-02-02T18:36:36.020823Z"
    }
   },
   "id": "3491e09fb79765ee",
   "execution_count": 35
  },
  {
   "cell_type": "code",
   "outputs": [
    {
     "name": "stdout",
     "output_type": "stream",
     "text": [
      "<class 'pandas.core.frame.DataFrame'>\n",
      "RangeIndex: 734 entries, 0 to 733\n",
      "Data columns (total 10 columns):\n",
      " #   Column              Non-Null Count  Dtype \n",
      "---  ------              --------------  ----- \n",
      " 0   lgd_state_id_x      734 non-null    object\n",
      " 1   lgd_state_name      734 non-null    object\n",
      " 2   lgd_district_id     734 non-null    object\n",
      " 3   lgd_district_name   734 non-null    object\n",
      " 4   pc11_state_id_x     724 non-null    object\n",
      " 5   pc11_district_id    724 non-null    object\n",
      " 6   lgd_state_id_y      724 non-null    object\n",
      " 7   pc11_state_id_y     721 non-null    object\n",
      " 8   pc11_state_name     721 non-null    object\n",
      " 9   pc11_district_name  721 non-null    object\n",
      "dtypes: object(10)\n",
      "memory usage: 57.5+ KB\n"
     ]
    }
   ],
   "source": [
    "# Create the query table of state\\district and their lgd_id, pc11_id, pc01_id by merging the above tables\n",
    "district_key = pd.merge(lgd_district_key_cleaned, lgd_pc11_district_key_cleaned, on=[\"lgd_district_id\"], how=\"left\")\n",
    "district_key = pd.merge(district_key, pc11_district_key_cleaned, on=[\"pc11_district_id\"], how=\"left\")\n",
    "\n",
    "# Check \"district_key\" table\n",
    "district_key.info()"
   ],
   "metadata": {
    "collapsed": false,
    "ExecuteTime": {
     "end_time": "2024-02-02T18:36:36.042799Z",
     "start_time": "2024-02-02T18:36:36.026328Z"
    }
   },
   "id": "3fe6c5d5d974651c",
   "execution_count": 36
  },
  {
   "cell_type": "code",
   "outputs": [
    {
     "name": "stdout",
     "output_type": "stream",
     "text": [
      "<class 'pandas.core.frame.DataFrame'>\n",
      "RangeIndex: 734 entries, 0 to 733\n",
      "Data columns (total 8 columns):\n",
      " #   Column              Non-Null Count  Dtype \n",
      "---  ------              --------------  ----- \n",
      " 0   lgd_state_id        734 non-null    object\n",
      " 1   lgd_state_name      734 non-null    object\n",
      " 2   lgd_district_id     734 non-null    object\n",
      " 3   lgd_district_name   734 non-null    object\n",
      " 4   pc11_state_id       724 non-null    object\n",
      " 5   pc11_district_id    724 non-null    object\n",
      " 6   pc11_state_name     721 non-null    object\n",
      " 7   pc11_district_name  721 non-null    object\n",
      "dtypes: object(8)\n",
      "memory usage: 46.0+ KB\n"
     ]
    }
   ],
   "source": [
    "# Clean the query table\n",
    "def compare_and_update_columns(df, col_x, col_y):\n",
    "    # List to store mismatched rows' indices\n",
    "    mismatched_rows = []\n",
    "\n",
    "    # Check whether both columns exist\n",
    "    if col_x in df.columns and col_y in df.columns:\n",
    "        # Compare col_x and col_y, and ignore if one of them is Nan\n",
    "        mismatches = df[(~pd.isna(df[col_x])) & (~pd.isna(df[col_y])) & (df[col_x] != df[col_y])]\n",
    "        if not mismatches.empty:\n",
    "            mismatched_rows.extend(mismatches.index.tolist())\n",
    "            print(f\"Columns {col_x} and {col_y} mismatch on rows: {mismatches.index.tolist()}\")\n",
    "        else:\n",
    "            # If they are the same, drop the col_y, rename and keep col_x\n",
    "            new_col_name = col_x.rstrip(\"_x\")\n",
    "            df.rename(columns={col_x: new_col_name}, inplace=True)\n",
    "            df.drop(col_y, axis=1, inplace=True)\n",
    "    else:\n",
    "        raise ValueError(f\"One or both columns {col_x} or {col_y} do not exist in the DataFrame.\")\n",
    "    \n",
    "    return df\n",
    "\n",
    "district_key = compare_and_update_columns(district_key, \"lgd_state_id_x\", \"lgd_state_id_y\")\n",
    "district_key = compare_and_update_columns(district_key, \"pc11_state_id_x\", \"pc11_state_id_y\")\n",
    "\n",
    "# Check the \"district_key\" table \n",
    "district_key.info()"
   ],
   "metadata": {
    "collapsed": false,
    "ExecuteTime": {
     "end_time": "2024-02-02T18:36:36.050076Z",
     "start_time": "2024-02-02T18:36:36.034927Z"
    }
   },
   "id": "9ebba9793a1c452a",
   "execution_count": 37
  },
  {
   "cell_type": "code",
   "outputs": [
    {
     "name": "stdout",
     "output_type": "stream",
     "text": [
      "<class 'pandas.core.frame.DataFrame'>\n",
      "Index: 724 entries, 0 to 733\n",
      "Data columns (total 8 columns):\n",
      " #   Column              Non-Null Count  Dtype \n",
      "---  ------              --------------  ----- \n",
      " 0   lgd_state_id        724 non-null    object\n",
      " 1   lgd_state_name      724 non-null    object\n",
      " 2   lgd_district_id     724 non-null    object\n",
      " 3   lgd_district_name   724 non-null    object\n",
      " 4   pc11_state_id       724 non-null    object\n",
      " 5   pc11_district_id    724 non-null    object\n",
      " 6   pc11_state_name     721 non-null    object\n",
      " 7   pc11_district_name  721 non-null    object\n",
      "dtypes: object(8)\n",
      "memory usage: 50.9+ KB\n"
     ]
    }
   ],
   "source": [
    "# Clean the \"district_key\" table, drop the rows with nan pc11_id\n",
    "district_key = district_key.dropna(subset=[\"pc11_state_id\", \"pc11_district_id\"])\n",
    "\n",
    "# Check the \"district_key\" table\n",
    "district_key.info()"
   ],
   "metadata": {
    "collapsed": false,
    "ExecuteTime": {
     "end_time": "2024-02-02T18:36:36.050847Z",
     "start_time": "2024-02-02T18:36:36.041610Z"
    }
   },
   "id": "b5b57ad41aa5ce7b",
   "execution_count": 38
  },
  {
   "cell_type": "code",
   "outputs": [
    {
     "data": {
      "text/plain": "    pc11_s_id                                           geometry\n0          24  MULTIPOLYGON (((70.45008 23.01226, 70.44904 23...\n1          24  MULTIPOLYGON (((71.24964 24.20926, 71.24207 24...\n2          24  MULTIPOLYGON (((71.42507 23.96967, 71.42497 23...\n3          24  POLYGON ((72.79975 24.07615, 72.80022 24.07529...\n4          24  POLYGON ((73.14784 24.47759, 73.14773 24.47410...\n..        ...                                                ...\n636        31  MULTIPOLYGON (((73.06985 8.33289, 73.07083 8.3...\n637        35  MULTIPOLYGON (((93.71364 7.21016, 93.71297 7.2...\n638        35  MULTIPOLYGON (((92.87559 12.21008, 92.87547 12...\n639        35  MULTIPOLYGON (((92.51415 10.86435, 92.51197 10...\n640        01  MULTIPOLYGON (((77.96377 35.48792, 77.96460 35...\n\n[641 rows x 2 columns]",
      "text/html": "<div>\n<style scoped>\n    .dataframe tbody tr th:only-of-type {\n        vertical-align: middle;\n    }\n\n    .dataframe tbody tr th {\n        vertical-align: top;\n    }\n\n    .dataframe thead th {\n        text-align: right;\n    }\n</style>\n<table border=\"1\" class=\"dataframe\">\n  <thead>\n    <tr style=\"text-align: right;\">\n      <th></th>\n      <th>pc11_s_id</th>\n      <th>geometry</th>\n    </tr>\n  </thead>\n  <tbody>\n    <tr>\n      <th>0</th>\n      <td>24</td>\n      <td>MULTIPOLYGON (((70.45008 23.01226, 70.44904 23...</td>\n    </tr>\n    <tr>\n      <th>1</th>\n      <td>24</td>\n      <td>MULTIPOLYGON (((71.24964 24.20926, 71.24207 24...</td>\n    </tr>\n    <tr>\n      <th>2</th>\n      <td>24</td>\n      <td>MULTIPOLYGON (((71.42507 23.96967, 71.42497 23...</td>\n    </tr>\n    <tr>\n      <th>3</th>\n      <td>24</td>\n      <td>POLYGON ((72.79975 24.07615, 72.80022 24.07529...</td>\n    </tr>\n    <tr>\n      <th>4</th>\n      <td>24</td>\n      <td>POLYGON ((73.14784 24.47759, 73.14773 24.47410...</td>\n    </tr>\n    <tr>\n      <th>...</th>\n      <td>...</td>\n      <td>...</td>\n    </tr>\n    <tr>\n      <th>636</th>\n      <td>31</td>\n      <td>MULTIPOLYGON (((73.06985 8.33289, 73.07083 8.3...</td>\n    </tr>\n    <tr>\n      <th>637</th>\n      <td>35</td>\n      <td>MULTIPOLYGON (((93.71364 7.21016, 93.71297 7.2...</td>\n    </tr>\n    <tr>\n      <th>638</th>\n      <td>35</td>\n      <td>MULTIPOLYGON (((92.87559 12.21008, 92.87547 12...</td>\n    </tr>\n    <tr>\n      <th>639</th>\n      <td>35</td>\n      <td>MULTIPOLYGON (((92.51415 10.86435, 92.51197 10...</td>\n    </tr>\n    <tr>\n      <th>640</th>\n      <td>01</td>\n      <td>MULTIPOLYGON (((77.96377 35.48792, 77.96460 35...</td>\n    </tr>\n  </tbody>\n</table>\n<p>641 rows × 2 columns</p>\n</div>"
     },
     "execution_count": 39,
     "metadata": {},
     "output_type": "execute_result"
    }
   ],
   "source": [
    "# Explore shapefile data (district level)\n",
    "import geopandas as gpd\n",
    "\n",
    "district_shp = gpd.read_file(\"../shrug-pc11dist-poly-shp/district.shp\")\n",
    "district_shp = district_shp.drop(columns=[\"pc11_d_id\", \"d_name\"])\n",
    "\n",
    "# Check the \"district_shp\" table\n",
    "district_shp"
   ],
   "metadata": {
    "collapsed": false,
    "ExecuteTime": {
     "end_time": "2024-02-02T18:36:37.143993Z",
     "start_time": "2024-02-02T18:36:36.049461Z"
    }
   },
   "id": "1f2fe94afbf965f7",
   "execution_count": 39
  },
  {
   "cell_type": "code",
   "outputs": [
    {
     "name": "stderr",
     "output_type": "stream",
     "text": [
      "/Users/shenqiwei/miniconda3/envs/gds/lib/python3.9/site-packages/shapely/set_operations.py:426: RuntimeWarning: invalid value encountered in unary_union\n",
      "  return lib.unary_union(collections, **kwargs)\n"
     ]
    },
    {
     "data": {
      "text/plain": "   pc11_s_id                                           geometry\n0         01  POLYGON ((74.87781 32.49447, 74.87746 32.49422...\n1         02  POLYGON ((77.01388 30.75802, 77.01513 30.76066...\n2         03  POLYGON ((75.72775 29.81286, 75.72764 29.81201...\n3         04  POLYGON ((76.79191 30.77115, 76.79229 30.77118...\n4         05  POLYGON ((78.82994 29.37827, 78.83283 29.37810...\n5         06  POLYGON ((76.86159 28.22481, 76.86037 28.22501...\n6         07  POLYGON ((77.31867 28.56386, 77.31952 28.56433...\n7         08  POLYGON ((73.95642 23.37726, 73.95514 23.37739...\n8         09  MULTIPOLYGON (((78.58008 25.18957, 78.58099 25...\n9         10  MULTIPOLYGON (((84.51003 24.25944, 84.50918 24...\n10        11  POLYGON ((88.80204 27.42773, 88.80286 27.42725...\n11        12  POLYGON ((94.21093 27.60839, 94.21079 27.60828...\n12        13  POLYGON ((93.53308 25.69047, 93.53358 25.69074...\n13        14  POLYGON ((93.74101 24.00471, 93.74137 24.00228...\n14        15  POLYGON ((93.10784 22.52625, 93.10916 22.52462...\n15        16  POLYGON ((91.88107 23.43100, 91.88270 23.42993...\n16        17  POLYGON ((90.97460 25.17513, 90.97171 25.17330...\n17        18  MULTIPOLYGON (((92.17778 26.07661, 92.17580 26...\n18        19  MULTIPOLYGON (((88.19625 21.57272, 88.19569 21...\n19        20  MULTIPOLYGON (((85.89489 23.15072, 85.89557 23...\n20        21  MULTIPOLYGON (((82.39524 18.44878, 82.39508 18...\n21        22  POLYGON ((81.95951 18.68881, 81.96465 18.67641...\n22        23  MULTIPOLYGON (((76.78783 21.54013, 76.78554 21...\n23        24  MULTIPOLYGON (((69.97938 21.22896, 69.97760 21...\n24        25  MULTIPOLYGON (((72.83954 20.41098, 72.83959 20...\n25        26  MULTIPOLYGON (((73.11651 20.31271, 73.11440 20...\n26        27  MULTIPOLYGON (((73.08356 17.81855, 73.08470 17...\n27        28  POLYGON ((80.02380 13.52380, 80.02213 13.52475...\n28        29  MULTIPOLYGON (((74.77680 13.07291, 74.77680 13...\n29        30  MULTIPOLYGON (((74.11488 14.75685, 74.11516 14...\n30        31  MULTIPOLYGON (((72.28151 10.04247, 72.28241 10...\n31        32  POLYGON ((76.83494 10.33028, 76.83446 10.32504...\n32        33  MULTIPOLYGON (((77.57704 8.13644, 77.57654 8.1...\n33        34  MULTIPOLYGON (((79.73899 10.92084, 79.73903 10...\n34        35  MULTIPOLYGON (((92.49267 10.87136, 92.49011 10...",
      "text/html": "<div>\n<style scoped>\n    .dataframe tbody tr th:only-of-type {\n        vertical-align: middle;\n    }\n\n    .dataframe tbody tr th {\n        vertical-align: top;\n    }\n\n    .dataframe thead th {\n        text-align: right;\n    }\n</style>\n<table border=\"1\" class=\"dataframe\">\n  <thead>\n    <tr style=\"text-align: right;\">\n      <th></th>\n      <th>pc11_s_id</th>\n      <th>geometry</th>\n    </tr>\n  </thead>\n  <tbody>\n    <tr>\n      <th>0</th>\n      <td>01</td>\n      <td>POLYGON ((74.87781 32.49447, 74.87746 32.49422...</td>\n    </tr>\n    <tr>\n      <th>1</th>\n      <td>02</td>\n      <td>POLYGON ((77.01388 30.75802, 77.01513 30.76066...</td>\n    </tr>\n    <tr>\n      <th>2</th>\n      <td>03</td>\n      <td>POLYGON ((75.72775 29.81286, 75.72764 29.81201...</td>\n    </tr>\n    <tr>\n      <th>3</th>\n      <td>04</td>\n      <td>POLYGON ((76.79191 30.77115, 76.79229 30.77118...</td>\n    </tr>\n    <tr>\n      <th>4</th>\n      <td>05</td>\n      <td>POLYGON ((78.82994 29.37827, 78.83283 29.37810...</td>\n    </tr>\n    <tr>\n      <th>5</th>\n      <td>06</td>\n      <td>POLYGON ((76.86159 28.22481, 76.86037 28.22501...</td>\n    </tr>\n    <tr>\n      <th>6</th>\n      <td>07</td>\n      <td>POLYGON ((77.31867 28.56386, 77.31952 28.56433...</td>\n    </tr>\n    <tr>\n      <th>7</th>\n      <td>08</td>\n      <td>POLYGON ((73.95642 23.37726, 73.95514 23.37739...</td>\n    </tr>\n    <tr>\n      <th>8</th>\n      <td>09</td>\n      <td>MULTIPOLYGON (((78.58008 25.18957, 78.58099 25...</td>\n    </tr>\n    <tr>\n      <th>9</th>\n      <td>10</td>\n      <td>MULTIPOLYGON (((84.51003 24.25944, 84.50918 24...</td>\n    </tr>\n    <tr>\n      <th>10</th>\n      <td>11</td>\n      <td>POLYGON ((88.80204 27.42773, 88.80286 27.42725...</td>\n    </tr>\n    <tr>\n      <th>11</th>\n      <td>12</td>\n      <td>POLYGON ((94.21093 27.60839, 94.21079 27.60828...</td>\n    </tr>\n    <tr>\n      <th>12</th>\n      <td>13</td>\n      <td>POLYGON ((93.53308 25.69047, 93.53358 25.69074...</td>\n    </tr>\n    <tr>\n      <th>13</th>\n      <td>14</td>\n      <td>POLYGON ((93.74101 24.00471, 93.74137 24.00228...</td>\n    </tr>\n    <tr>\n      <th>14</th>\n      <td>15</td>\n      <td>POLYGON ((93.10784 22.52625, 93.10916 22.52462...</td>\n    </tr>\n    <tr>\n      <th>15</th>\n      <td>16</td>\n      <td>POLYGON ((91.88107 23.43100, 91.88270 23.42993...</td>\n    </tr>\n    <tr>\n      <th>16</th>\n      <td>17</td>\n      <td>POLYGON ((90.97460 25.17513, 90.97171 25.17330...</td>\n    </tr>\n    <tr>\n      <th>17</th>\n      <td>18</td>\n      <td>MULTIPOLYGON (((92.17778 26.07661, 92.17580 26...</td>\n    </tr>\n    <tr>\n      <th>18</th>\n      <td>19</td>\n      <td>MULTIPOLYGON (((88.19625 21.57272, 88.19569 21...</td>\n    </tr>\n    <tr>\n      <th>19</th>\n      <td>20</td>\n      <td>MULTIPOLYGON (((85.89489 23.15072, 85.89557 23...</td>\n    </tr>\n    <tr>\n      <th>20</th>\n      <td>21</td>\n      <td>MULTIPOLYGON (((82.39524 18.44878, 82.39508 18...</td>\n    </tr>\n    <tr>\n      <th>21</th>\n      <td>22</td>\n      <td>POLYGON ((81.95951 18.68881, 81.96465 18.67641...</td>\n    </tr>\n    <tr>\n      <th>22</th>\n      <td>23</td>\n      <td>MULTIPOLYGON (((76.78783 21.54013, 76.78554 21...</td>\n    </tr>\n    <tr>\n      <th>23</th>\n      <td>24</td>\n      <td>MULTIPOLYGON (((69.97938 21.22896, 69.97760 21...</td>\n    </tr>\n    <tr>\n      <th>24</th>\n      <td>25</td>\n      <td>MULTIPOLYGON (((72.83954 20.41098, 72.83959 20...</td>\n    </tr>\n    <tr>\n      <th>25</th>\n      <td>26</td>\n      <td>MULTIPOLYGON (((73.11651 20.31271, 73.11440 20...</td>\n    </tr>\n    <tr>\n      <th>26</th>\n      <td>27</td>\n      <td>MULTIPOLYGON (((73.08356 17.81855, 73.08470 17...</td>\n    </tr>\n    <tr>\n      <th>27</th>\n      <td>28</td>\n      <td>POLYGON ((80.02380 13.52380, 80.02213 13.52475...</td>\n    </tr>\n    <tr>\n      <th>28</th>\n      <td>29</td>\n      <td>MULTIPOLYGON (((74.77680 13.07291, 74.77680 13...</td>\n    </tr>\n    <tr>\n      <th>29</th>\n      <td>30</td>\n      <td>MULTIPOLYGON (((74.11488 14.75685, 74.11516 14...</td>\n    </tr>\n    <tr>\n      <th>30</th>\n      <td>31</td>\n      <td>MULTIPOLYGON (((72.28151 10.04247, 72.28241 10...</td>\n    </tr>\n    <tr>\n      <th>31</th>\n      <td>32</td>\n      <td>POLYGON ((76.83494 10.33028, 76.83446 10.32504...</td>\n    </tr>\n    <tr>\n      <th>32</th>\n      <td>33</td>\n      <td>MULTIPOLYGON (((77.57704 8.13644, 77.57654 8.1...</td>\n    </tr>\n    <tr>\n      <th>33</th>\n      <td>34</td>\n      <td>MULTIPOLYGON (((79.73899 10.92084, 79.73903 10...</td>\n    </tr>\n    <tr>\n      <th>34</th>\n      <td>35</td>\n      <td>MULTIPOLYGON (((92.49267 10.87136, 92.49011 10...</td>\n    </tr>\n  </tbody>\n</table>\n</div>"
     },
     "execution_count": 40,
     "metadata": {},
     "output_type": "execute_result"
    }
   ],
   "source": [
    "state_shp = district_shp.dissolve(by=\"pc11_s_id\")\n",
    "state_shp = state_shp.reset_index()\n",
    "district_shp = district_shp.drop_duplicates()\n",
    "\n",
    "state_key = district_key.drop(columns=[\"lgd_district_id\", \"lgd_district_name\", \"pc11_district_id\", \"pc11_district_name\"])\n",
    "state_key = state_key.drop_duplicates()\n",
    "\n",
    "state_shp"
   ],
   "metadata": {
    "collapsed": false,
    "ExecuteTime": {
     "end_time": "2024-02-02T18:36:40.308045Z",
     "start_time": "2024-02-02T18:36:37.143743Z"
    }
   },
   "id": "743008fe1421cd70",
   "execution_count": 40
  },
  {
   "cell_type": "code",
   "outputs": [
    {
     "data": {
      "text/plain": "  lgd_state_id     lgd_state_name pc11_state_id   pc11_state_name pc11_s_id  \\\n0           01  jammu and kashmir            01     jammu kashmir        01   \n1           02   himachal pradesh            02  himachal pradesh        02   \n2           03             punjab            03            punjab        03   \n3           05        uttarakhand            05       uttarakhand        05   \n4           06            haryana            06           haryana        06   \n\n                                            geometry  \n0  POLYGON ((74.87781 32.49447, 74.87746 32.49422...  \n1  POLYGON ((77.01388 30.75802, 77.01513 30.76066...  \n2  POLYGON ((75.72775 29.81286, 75.72764 29.81201...  \n3  POLYGON ((78.82994 29.37827, 78.83283 29.37810...  \n4  POLYGON ((76.86159 28.22481, 76.86037 28.22501...  ",
      "text/html": "<div>\n<style scoped>\n    .dataframe tbody tr th:only-of-type {\n        vertical-align: middle;\n    }\n\n    .dataframe tbody tr th {\n        vertical-align: top;\n    }\n\n    .dataframe thead th {\n        text-align: right;\n    }\n</style>\n<table border=\"1\" class=\"dataframe\">\n  <thead>\n    <tr style=\"text-align: right;\">\n      <th></th>\n      <th>lgd_state_id</th>\n      <th>lgd_state_name</th>\n      <th>pc11_state_id</th>\n      <th>pc11_state_name</th>\n      <th>pc11_s_id</th>\n      <th>geometry</th>\n    </tr>\n  </thead>\n  <tbody>\n    <tr>\n      <th>0</th>\n      <td>01</td>\n      <td>jammu and kashmir</td>\n      <td>01</td>\n      <td>jammu kashmir</td>\n      <td>01</td>\n      <td>POLYGON ((74.87781 32.49447, 74.87746 32.49422...</td>\n    </tr>\n    <tr>\n      <th>1</th>\n      <td>02</td>\n      <td>himachal pradesh</td>\n      <td>02</td>\n      <td>himachal pradesh</td>\n      <td>02</td>\n      <td>POLYGON ((77.01388 30.75802, 77.01513 30.76066...</td>\n    </tr>\n    <tr>\n      <th>2</th>\n      <td>03</td>\n      <td>punjab</td>\n      <td>03</td>\n      <td>punjab</td>\n      <td>03</td>\n      <td>POLYGON ((75.72775 29.81286, 75.72764 29.81201...</td>\n    </tr>\n    <tr>\n      <th>3</th>\n      <td>05</td>\n      <td>uttarakhand</td>\n      <td>05</td>\n      <td>uttarakhand</td>\n      <td>05</td>\n      <td>POLYGON ((78.82994 29.37827, 78.83283 29.37810...</td>\n    </tr>\n    <tr>\n      <th>4</th>\n      <td>06</td>\n      <td>haryana</td>\n      <td>06</td>\n      <td>haryana</td>\n      <td>06</td>\n      <td>POLYGON ((76.86159 28.22481, 76.86037 28.22501...</td>\n    </tr>\n  </tbody>\n</table>\n</div>"
     },
     "execution_count": 41,
     "metadata": {},
     "output_type": "execute_result"
    }
   ],
   "source": [
    "# Merge the shp and the query table\n",
    "state_key_with_polygon = pd.merge(state_key, state_shp, left_on=\"pc11_state_id\", right_on=\"pc11_s_id\", how=\"left\")\n",
    "\n",
    "# Check the \"district_key_with_polygon\" table\n",
    "state_key_with_polygon.head()"
   ],
   "metadata": {
    "collapsed": false,
    "ExecuteTime": {
     "end_time": "2024-02-02T18:36:40.358082Z",
     "start_time": "2024-02-02T18:36:40.355782Z"
    }
   },
   "id": "6e39e8b433cec3b7",
   "execution_count": 41
  },
  {
   "cell_type": "code",
   "outputs": [],
   "source": [
    "# Clean the merged table\n",
    "# Drop the rows with nan value\n",
    "state_key_with_polygon = state_key_with_polygon.dropna()\n",
    "\n",
    "state_key_with_polygon = compare_and_update_columns(state_key_with_polygon, \"pc11_state_id\", \"pc11_s_id\")"
   ],
   "metadata": {
    "collapsed": false,
    "ExecuteTime": {
     "end_time": "2024-02-02T18:36:40.372542Z",
     "start_time": "2024-02-02T18:36:40.359609Z"
    }
   },
   "id": "f0fb6d954a24023e",
   "execution_count": 42
  },
  {
   "cell_type": "code",
   "outputs": [],
   "source": [
    "# # There are 12 rows, which \"pc11_district_name\" and \"d_name\" are different, so the manually checking is conducted\n",
    "# district_key_with_polygon.loc[[26, 191, 218, 245, 404, 444, 481, 490, 553, 590, 689, 723]][[\"pc11_district_name\", \"d_name\"]]"
   ],
   "metadata": {
    "collapsed": false,
    "ExecuteTime": {
     "end_time": "2024-02-02T18:36:40.372808Z",
     "start_time": "2024-02-02T18:36:40.361499Z"
    }
   },
   "id": "b5656d0b3ed0f84b",
   "execution_count": 43
  },
  {
   "cell_type": "code",
   "outputs": [],
   "source": [
    "# # As they are basically same, the \"d_name\" is dropped\n",
    "# district_key_with_polygon = district_key_with_polygon.drop(\"d_name\", axis=1)\n",
    "# \n",
    "# # Check the \"district_key_with_polygon\" table\n",
    "# district_key_with_polygon.info()"
   ],
   "metadata": {
    "collapsed": false,
    "ExecuteTime": {
     "end_time": "2024-02-02T18:36:40.372991Z",
     "start_time": "2024-02-02T18:36:40.363746Z"
    }
   },
   "id": "20d7d12a472c54be",
   "execution_count": 44
  },
  {
   "cell_type": "code",
   "outputs": [],
   "source": [
    "state_key_with_polygon.rename(columns={\"lgd_state_id\": \"lgd_sta_id\",\n",
    "                                       \"lgd_state_name\": \"lgd_sta_na\",\n",
    "                                       \"pc11_state_id\": \"pc11_st_id\",\n",
    "                                       \"pc11_state_name\": \"pc11_st_na\"}, inplace=True)"
   ],
   "metadata": {
    "collapsed": false,
    "ExecuteTime": {
     "end_time": "2024-02-02T18:36:40.373169Z",
     "start_time": "2024-02-02T18:36:40.366091Z"
    }
   },
   "id": "b7757f1e34808dff",
   "execution_count": 45
  },
  {
   "cell_type": "code",
   "outputs": [],
   "source": [
    "# Export the \"district_key_with_polygon\" table to shapefile\n",
    "district_key_with_polygon = gpd.GeoDataFrame(state_key_with_polygon, geometry=\"geometry\")\n",
    "os.mkdir(\"./output_shpfile/state_key_with_polygon\")\n",
    "district_key_with_polygon.to_file(\"./output_shpfile/state_key_with_polygon/state_key_with_polygon.shp\", driver=\"ESRI Shapefile\")"
   ],
   "metadata": {
    "collapsed": false,
    "ExecuteTime": {
     "end_time": "2024-02-02T18:36:40.626629Z",
     "start_time": "2024-02-02T18:36:40.368605Z"
    }
   },
   "id": "ac5094c8a15244f",
   "execution_count": 46
  }
 ],
 "metadata": {
  "kernelspec": {
   "display_name": "Python 3",
   "language": "python",
   "name": "python3"
  },
  "language_info": {
   "codemirror_mode": {
    "name": "ipython",
    "version": 2
   },
   "file_extension": ".py",
   "mimetype": "text/x-python",
   "name": "python",
   "nbconvert_exporter": "python",
   "pygments_lexer": "ipython2",
   "version": "2.7.6"
  }
 },
 "nbformat": 4,
 "nbformat_minor": 5
}
