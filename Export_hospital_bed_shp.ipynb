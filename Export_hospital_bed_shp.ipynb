{
 "cells": [
  {
   "cell_type": "code",
   "execution_count": 26,
   "id": "initial_id",
   "metadata": {
    "collapsed": true,
    "ExecuteTime": {
     "end_time": "2024-02-02T20:23:42.350920Z",
     "start_time": "2024-02-02T20:23:42.347891Z"
    }
   },
   "outputs": [],
   "source": [
    "import pandas as pd\n",
    "import geopandas as gpd\n",
    "import os"
   ]
  },
  {
   "cell_type": "code",
   "outputs": [
    {
     "name": "stdout",
     "output_type": "stream",
     "text": [
      "<class 'pandas.core.frame.DataFrame'>\n",
      "RangeIndex: 636 entries, 0 to 635\n",
      "Data columns (total 17 columns):\n",
      " #   Column                  Non-Null Count  Dtype  \n",
      "---  ------                  --------------  -----  \n",
      " 0   lgd_state_id            636 non-null    object \n",
      " 1   lgd_district_id         636 non-null    object \n",
      " 2   dlhs4_dh_beds           636 non-null    float64\n",
      " 3   dlhs4_dh_count          636 non-null    float64\n",
      " 4   dlhs4_dh_staff          636 non-null    float64\n",
      " 5   dlhs4_chc_beds          636 non-null    float64\n",
      " 6   dlhs4_chc_count         636 non-null    float64\n",
      " 7   dlhs4_chc_staff         636 non-null    float64\n",
      " 8   dlhs4_phc_beds          636 non-null    float64\n",
      " 9   dlhs4_phc_count         636 non-null    float64\n",
      " 10  dlhs4_phc_staff         636 non-null    float64\n",
      " 11  dlhs4_phc_pop           636 non-null    float64\n",
      " 12  pc11_pca_tot_p          636 non-null    float64\n",
      " 13  dlhs4_phc_mult          636 non-null    float32\n",
      " 14  dlhs4_total_beds        636 non-null    float64\n",
      " 15  dlhs4_total_staff       636 non-null    float64\n",
      " 16  dlhs4_total_facilities  636 non-null    float64\n",
      "dtypes: float32(1), float64(14), object(2)\n",
      "memory usage: 82.1+ KB\n"
     ]
    }
   ],
   "source": [
    "hospital_bed = pd.read_stata(\"../covid_data/hospitals/dlhs4_hospitals_dist.dta\")\n",
    "\n",
    "hospital_bed.info()"
   ],
   "metadata": {
    "collapsed": false,
    "ExecuteTime": {
     "end_time": "2024-02-02T20:23:42.368609Z",
     "start_time": "2024-02-02T20:23:42.352004Z"
    }
   },
   "id": "4250c228c4294856",
   "execution_count": 27
  },
  {
   "cell_type": "code",
   "outputs": [
    {
     "data": {
      "text/plain": "   lgd_state_id  dlhs4_dh_beds\n0            02    2330.000000\n1            03    5119.000000\n2            04     550.000000\n3            05    4360.000000\n4            06    3965.000000\n5            08   10445.000000\n6            09   17651.999997\n7            10    6291.000000\n8            11     504.000000\n9            12    1050.000003\n10           13    1052.000000\n11           14     417.999996\n12           15     768.999994\n13           16    2761.000039\n14           17     765.000000\n15           18    5193.999974\n16           19   19719.000057\n17           20    2061.000000\n18           21    6490.000000\n19           22    3062.000011\n20           23   15769.999992\n21           27   20270.000000\n22           28    9517.000000\n23           29   25241.000000\n24           30     572.000000\n25           32   14644.000000\n26           33   32725.000056\n27           34     877.000000\n28           35     601.000000\n29           36    5569.999965",
      "text/html": "<div>\n<style scoped>\n    .dataframe tbody tr th:only-of-type {\n        vertical-align: middle;\n    }\n\n    .dataframe tbody tr th {\n        vertical-align: top;\n    }\n\n    .dataframe thead th {\n        text-align: right;\n    }\n</style>\n<table border=\"1\" class=\"dataframe\">\n  <thead>\n    <tr style=\"text-align: right;\">\n      <th></th>\n      <th>lgd_state_id</th>\n      <th>dlhs4_dh_beds</th>\n    </tr>\n  </thead>\n  <tbody>\n    <tr>\n      <th>0</th>\n      <td>02</td>\n      <td>2330.000000</td>\n    </tr>\n    <tr>\n      <th>1</th>\n      <td>03</td>\n      <td>5119.000000</td>\n    </tr>\n    <tr>\n      <th>2</th>\n      <td>04</td>\n      <td>550.000000</td>\n    </tr>\n    <tr>\n      <th>3</th>\n      <td>05</td>\n      <td>4360.000000</td>\n    </tr>\n    <tr>\n      <th>4</th>\n      <td>06</td>\n      <td>3965.000000</td>\n    </tr>\n    <tr>\n      <th>5</th>\n      <td>08</td>\n      <td>10445.000000</td>\n    </tr>\n    <tr>\n      <th>6</th>\n      <td>09</td>\n      <td>17651.999997</td>\n    </tr>\n    <tr>\n      <th>7</th>\n      <td>10</td>\n      <td>6291.000000</td>\n    </tr>\n    <tr>\n      <th>8</th>\n      <td>11</td>\n      <td>504.000000</td>\n    </tr>\n    <tr>\n      <th>9</th>\n      <td>12</td>\n      <td>1050.000003</td>\n    </tr>\n    <tr>\n      <th>10</th>\n      <td>13</td>\n      <td>1052.000000</td>\n    </tr>\n    <tr>\n      <th>11</th>\n      <td>14</td>\n      <td>417.999996</td>\n    </tr>\n    <tr>\n      <th>12</th>\n      <td>15</td>\n      <td>768.999994</td>\n    </tr>\n    <tr>\n      <th>13</th>\n      <td>16</td>\n      <td>2761.000039</td>\n    </tr>\n    <tr>\n      <th>14</th>\n      <td>17</td>\n      <td>765.000000</td>\n    </tr>\n    <tr>\n      <th>15</th>\n      <td>18</td>\n      <td>5193.999974</td>\n    </tr>\n    <tr>\n      <th>16</th>\n      <td>19</td>\n      <td>19719.000057</td>\n    </tr>\n    <tr>\n      <th>17</th>\n      <td>20</td>\n      <td>2061.000000</td>\n    </tr>\n    <tr>\n      <th>18</th>\n      <td>21</td>\n      <td>6490.000000</td>\n    </tr>\n    <tr>\n      <th>19</th>\n      <td>22</td>\n      <td>3062.000011</td>\n    </tr>\n    <tr>\n      <th>20</th>\n      <td>23</td>\n      <td>15769.999992</td>\n    </tr>\n    <tr>\n      <th>21</th>\n      <td>27</td>\n      <td>20270.000000</td>\n    </tr>\n    <tr>\n      <th>22</th>\n      <td>28</td>\n      <td>9517.000000</td>\n    </tr>\n    <tr>\n      <th>23</th>\n      <td>29</td>\n      <td>25241.000000</td>\n    </tr>\n    <tr>\n      <th>24</th>\n      <td>30</td>\n      <td>572.000000</td>\n    </tr>\n    <tr>\n      <th>25</th>\n      <td>32</td>\n      <td>14644.000000</td>\n    </tr>\n    <tr>\n      <th>26</th>\n      <td>33</td>\n      <td>32725.000056</td>\n    </tr>\n    <tr>\n      <th>27</th>\n      <td>34</td>\n      <td>877.000000</td>\n    </tr>\n    <tr>\n      <th>28</th>\n      <td>35</td>\n      <td>601.000000</td>\n    </tr>\n    <tr>\n      <th>29</th>\n      <td>36</td>\n      <td>5569.999965</td>\n    </tr>\n  </tbody>\n</table>\n</div>"
     },
     "execution_count": 28,
     "metadata": {},
     "output_type": "execute_result"
    }
   ],
   "source": [
    "hospital_bed_state = hospital_bed.groupby(\"lgd_state_id\")[\"dlhs4_dh_beds\"].sum().reset_index()\n",
    "\n",
    "hospital_bed_state"
   ],
   "metadata": {
    "collapsed": false,
    "ExecuteTime": {
     "end_time": "2024-02-02T20:23:42.369113Z",
     "start_time": "2024-02-02T20:23:42.362145Z"
    }
   },
   "id": "6e553a6a42fe1a4f",
   "execution_count": 28
  },
  {
   "cell_type": "code",
   "outputs": [
    {
     "name": "stdout",
     "output_type": "stream",
     "text": [
      "<class 'geopandas.geodataframe.GeoDataFrame'>\n",
      "RangeIndex: 36 entries, 0 to 35\n",
      "Data columns (total 5 columns):\n",
      " #   Column      Non-Null Count  Dtype   \n",
      "---  ------      --------------  -----   \n",
      " 0   lgd_sta_id  36 non-null     object  \n",
      " 1   lgd_sta_na  36 non-null     object  \n",
      " 2   pc11_st_id  36 non-null     object  \n",
      " 3   pc11_st_na  36 non-null     object  \n",
      " 4   geometry    36 non-null     geometry\n",
      "dtypes: geometry(1), object(4)\n",
      "memory usage: 1.5+ KB\n"
     ]
    }
   ],
   "source": [
    "state_shp = gpd.read_file(\"./output_shpfile/state_key_with_polygon/state_key_with_polygon.shp\")\n",
    "\n",
    "state_shp.info()"
   ],
   "metadata": {
    "collapsed": false,
    "ExecuteTime": {
     "end_time": "2024-02-02T20:23:42.893715Z",
     "start_time": "2024-02-02T20:23:42.438547Z"
    }
   },
   "id": "8bd2f25a3556d830",
   "execution_count": 29
  },
  {
   "cell_type": "code",
   "outputs": [
    {
     "name": "stdout",
     "output_type": "stream",
     "text": [
      "<class 'geopandas.geodataframe.GeoDataFrame'>\n",
      "Index: 6 entries, 7 to 31\n",
      "Data columns (total 7 columns):\n",
      " #   Column         Non-Null Count  Dtype   \n",
      "---  ------         --------------  -----   \n",
      " 0   lgd_sta_id     6 non-null      object  \n",
      " 1   lgd_sta_na     6 non-null      object  \n",
      " 2   pc11_st_id     6 non-null      object  \n",
      " 3   pc11_st_na     6 non-null      object  \n",
      " 4   geometry       6 non-null      geometry\n",
      " 5   lgd_state_id   6 non-null      object  \n",
      " 6   dlhs4_dh_beds  6 non-null      float64 \n",
      "dtypes: float64(1), geometry(1), object(5)\n",
      "memory usage: 384.0+ bytes\n"
     ]
    }
   ],
   "source": [
    "hospital_bed_state_shp = pd.merge(state_shp, hospital_bed_state, left_on=\"lgd_sta_id\", right_on=\"lgd_state_id\", how=\"left\")\n",
    "\n",
    "hospital_bed_state_shp = hospital_bed_state_shp[hospital_bed_state_shp[\"lgd_sta_na\"].isin([\"tamil nadu\", \"madhya pradesh\", \"maharashtra\", \"uttar pradesh\", \"kerala\", \"bihar\"])]\n",
    "\n",
    "hospital_bed_state_shp.info()"
   ],
   "metadata": {
    "collapsed": false,
    "ExecuteTime": {
     "end_time": "2024-02-02T20:23:42.900521Z",
     "start_time": "2024-02-02T20:23:42.898099Z"
    }
   },
   "id": "cf09c9824d54694e",
   "execution_count": 30
  },
  {
   "cell_type": "code",
   "outputs": [
    {
     "name": "stdout",
     "output_type": "stream",
     "text": [
      "<class 'geopandas.geodataframe.GeoDataFrame'>\n",
      "Index: 6 entries, 7 to 31\n",
      "Data columns (total 6 columns):\n",
      " #   Column      Non-Null Count  Dtype   \n",
      "---  ------      --------------  -----   \n",
      " 0   lgd_sta_id  6 non-null      object  \n",
      " 1   lgd_sta_na  6 non-null      object  \n",
      " 2   pc11_st_id  6 non-null      object  \n",
      " 3   pc11_st_na  6 non-null      object  \n",
      " 4   geometry    6 non-null      geometry\n",
      " 5   hospit_bed  6 non-null      float64 \n",
      "dtypes: float64(1), geometry(1), object(4)\n",
      "memory usage: 336.0+ bytes\n"
     ]
    }
   ],
   "source": [
    "hospital_bed_state_shp.drop(columns=[\"lgd_state_id\"], inplace=True)\n",
    "hospital_bed_state_shp.rename(columns={\"dlhs4_dh_beds\": \"hospit_bed\"}, inplace=True)\n",
    "\n",
    "hospital_bed_state_shp.info()"
   ],
   "metadata": {
    "collapsed": false,
    "ExecuteTime": {
     "end_time": "2024-02-02T20:23:42.905063Z",
     "start_time": "2024-02-02T20:23:42.903163Z"
    }
   },
   "id": "20bbc8a5c0e75b6f",
   "execution_count": 31
  },
  {
   "cell_type": "code",
   "outputs": [],
   "source": [
    "# Export the \"mortality_perDistrict_perMonth_shp\" table to shapefile\n",
    "os.mkdir(\"./output_shpfile/hospital_bed_state_shp\")\n",
    "hospital_bed_state_shp.to_file(\"./output_shpfile/hospital_bed_state_shp/hospital_bed_state_shp.shp\", driver=\"ESRI Shapefile\")"
   ],
   "metadata": {
    "collapsed": false,
    "ExecuteTime": {
     "end_time": "2024-02-02T20:23:42.984363Z",
     "start_time": "2024-02-02T20:23:42.905645Z"
    }
   },
   "id": "e289d3b616f2a90f",
   "execution_count": 32
  }
 ],
 "metadata": {
  "kernelspec": {
   "display_name": "Python 3",
   "language": "python",
   "name": "python3"
  },
  "language_info": {
   "codemirror_mode": {
    "name": "ipython",
    "version": 2
   },
   "file_extension": ".py",
   "mimetype": "text/x-python",
   "name": "python",
   "nbconvert_exporter": "python",
   "pygments_lexer": "ipython2",
   "version": "2.7.6"
  }
 },
 "nbformat": 4,
 "nbformat_minor": 5
}
