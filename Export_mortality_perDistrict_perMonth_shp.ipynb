{
 "cells": [
  {
   "cell_type": "code",
   "execution_count": 1,
   "id": "initial_id",
   "metadata": {
    "collapsed": true,
    "ExecuteTime": {
     "end_time": "2024-02-01T17:25:50.665765Z",
     "start_time": "2024-02-01T17:25:50.576291Z"
    }
   },
   "outputs": [],
   "source": [
    "import pandas as pd\n",
    "import geopandas as gpd\n",
    "import os"
   ]
  },
  {
   "cell_type": "code",
   "outputs": [
    {
     "data": {
      "text/plain": "  lgd_state_id lgd_district_id    lgd_state_name lgd_district_name  \\\n0           02             015  himachal pradesh          bilaspur   \n1           02             015  himachal pradesh          bilaspur   \n2           02             015  himachal pradesh          bilaspur   \n3           02             015  himachal pradesh          bilaspur   \n4           02             015  himachal pradesh          bilaspur   \n\n              state  district  deaths  month    year pc11_state_id  \\\n0  Himachal Pradesh  Bilaspur   169.0      9  2020.0            02   \n1  Himachal Pradesh  Bilaspur   180.0     11  2019.0            02   \n2  Himachal Pradesh  Bilaspur   196.0      2  2018.0            02   \n3  Himachal Pradesh  Bilaspur   145.0      8  2018.0            02   \n4  Himachal Pradesh  Bilaspur   211.0      1  2020.0            02   \n\n  pc11_district_id pc11_district_name  \n0              030           bilaspur  \n1              030           bilaspur  \n2              030           bilaspur  \n3              030           bilaspur  \n4              030           bilaspur  ",
      "text/html": "<div>\n<style scoped>\n    .dataframe tbody tr th:only-of-type {\n        vertical-align: middle;\n    }\n\n    .dataframe tbody tr th {\n        vertical-align: top;\n    }\n\n    .dataframe thead th {\n        text-align: right;\n    }\n</style>\n<table border=\"1\" class=\"dataframe\">\n  <thead>\n    <tr style=\"text-align: right;\">\n      <th></th>\n      <th>lgd_state_id</th>\n      <th>lgd_district_id</th>\n      <th>lgd_state_name</th>\n      <th>lgd_district_name</th>\n      <th>state</th>\n      <th>district</th>\n      <th>deaths</th>\n      <th>month</th>\n      <th>year</th>\n      <th>pc11_state_id</th>\n      <th>pc11_district_id</th>\n      <th>pc11_district_name</th>\n    </tr>\n  </thead>\n  <tbody>\n    <tr>\n      <th>0</th>\n      <td>02</td>\n      <td>015</td>\n      <td>himachal pradesh</td>\n      <td>bilaspur</td>\n      <td>Himachal Pradesh</td>\n      <td>Bilaspur</td>\n      <td>169.0</td>\n      <td>9</td>\n      <td>2020.0</td>\n      <td>02</td>\n      <td>030</td>\n      <td>bilaspur</td>\n    </tr>\n    <tr>\n      <th>1</th>\n      <td>02</td>\n      <td>015</td>\n      <td>himachal pradesh</td>\n      <td>bilaspur</td>\n      <td>Himachal Pradesh</td>\n      <td>Bilaspur</td>\n      <td>180.0</td>\n      <td>11</td>\n      <td>2019.0</td>\n      <td>02</td>\n      <td>030</td>\n      <td>bilaspur</td>\n    </tr>\n    <tr>\n      <th>2</th>\n      <td>02</td>\n      <td>015</td>\n      <td>himachal pradesh</td>\n      <td>bilaspur</td>\n      <td>Himachal Pradesh</td>\n      <td>Bilaspur</td>\n      <td>196.0</td>\n      <td>2</td>\n      <td>2018.0</td>\n      <td>02</td>\n      <td>030</td>\n      <td>bilaspur</td>\n    </tr>\n    <tr>\n      <th>3</th>\n      <td>02</td>\n      <td>015</td>\n      <td>himachal pradesh</td>\n      <td>bilaspur</td>\n      <td>Himachal Pradesh</td>\n      <td>Bilaspur</td>\n      <td>145.0</td>\n      <td>8</td>\n      <td>2018.0</td>\n      <td>02</td>\n      <td>030</td>\n      <td>bilaspur</td>\n    </tr>\n    <tr>\n      <th>4</th>\n      <td>02</td>\n      <td>015</td>\n      <td>himachal pradesh</td>\n      <td>bilaspur</td>\n      <td>Himachal Pradesh</td>\n      <td>Bilaspur</td>\n      <td>211.0</td>\n      <td>1</td>\n      <td>2020.0</td>\n      <td>02</td>\n      <td>030</td>\n      <td>bilaspur</td>\n    </tr>\n  </tbody>\n</table>\n</div>"
     },
     "execution_count": 2,
     "metadata": {},
     "output_type": "execute_result"
    }
   ],
   "source": [
    "# Explore the \"district_mort_month\" table\n",
    "mortality_perDistrict_perMonth = pd.read_stata(\"../covid_data/mortality/district_mort_month.dta\")\n",
    "mortality_perDistrict_perMonth.head()"
   ],
   "metadata": {
    "collapsed": false,
    "ExecuteTime": {
     "end_time": "2024-02-01T17:25:50.694412Z",
     "start_time": "2024-02-01T17:25:50.664522Z"
    }
   },
   "id": "647f0c2133f62125",
   "execution_count": 2
  },
  {
   "cell_type": "code",
   "outputs": [
    {
     "name": "stdout",
     "output_type": "stream",
     "text": [
      "<class 'pandas.core.frame.DataFrame'>\n",
      "Index: 12435 entries, 0 to 12650\n",
      "Data columns (total 12 columns):\n",
      " #   Column              Non-Null Count  Dtype  \n",
      "---  ------              --------------  -----  \n",
      " 0   lgd_state_id        12435 non-null  object \n",
      " 1   lgd_district_id     12435 non-null  object \n",
      " 2   lgd_state_name      12435 non-null  object \n",
      " 3   lgd_district_name   12435 non-null  object \n",
      " 4   state               12435 non-null  object \n",
      " 5   district            12435 non-null  object \n",
      " 6   deaths              12435 non-null  float64\n",
      " 7   month               12435 non-null  int8   \n",
      " 8   year                12435 non-null  float32\n",
      " 9   pc11_state_id       12435 non-null  object \n",
      " 10  pc11_district_id    12435 non-null  object \n",
      " 11  pc11_district_name  12435 non-null  object \n",
      "dtypes: float32(1), float64(1), int8(1), object(9)\n",
      "memory usage: 1.1+ MB\n"
     ]
    }
   ],
   "source": [
    "# Extract data of Year 2018-2021\n",
    "mortality_perDistrict_perMonth = mortality_perDistrict_perMonth[mortality_perDistrict_perMonth[\"year\"].isin([2018, 2019, 2020, 2021])]\n",
    "\n",
    "# Check the \"mortality_perDistrict_perMonth\" table\n",
    "mortality_perDistrict_perMonth.info()"
   ],
   "metadata": {
    "collapsed": false,
    "ExecuteTime": {
     "end_time": "2024-02-01T17:25:50.702532Z",
     "start_time": "2024-02-01T17:25:50.696235Z"
    }
   },
   "id": "a17c634c623f4f41",
   "execution_count": 3
  },
  {
   "cell_type": "code",
   "outputs": [
    {
     "name": "stdout",
     "output_type": "stream",
     "text": [
      "<class 'geopandas.geodataframe.GeoDataFrame'>\n",
      "RangeIndex: 721 entries, 0 to 720\n",
      "Data columns (total 9 columns):\n",
      " #   Column      Non-Null Count  Dtype   \n",
      "---  ------      --------------  -----   \n",
      " 0   lgd_sta_id  721 non-null    object  \n",
      " 1   lgd_sta_na  721 non-null    object  \n",
      " 2   lgd_dis_id  721 non-null    object  \n",
      " 3   lgd_dis_na  721 non-null    object  \n",
      " 4   pc11_st_id  721 non-null    object  \n",
      " 5   pc11_di_id  721 non-null    object  \n",
      " 6   pc11_st_na  721 non-null    object  \n",
      " 7   pc11_di_na  721 non-null    object  \n",
      " 8   geometry    721 non-null    geometry\n",
      "dtypes: geometry(1), object(8)\n",
      "memory usage: 50.8+ KB\n"
     ]
    }
   ],
   "source": [
    "# Get shapefile in state level\n",
    "district_shp = gpd.read_file(\"./district_key_table_shp/district_key_table_shp.shp\")\n",
    "\n",
    "# Check the \"district_shp\" table\n",
    "district_shp.info()"
   ],
   "metadata": {
    "collapsed": false,
    "ExecuteTime": {
     "end_time": "2024-02-01T17:25:51.983320Z",
     "start_time": "2024-02-01T17:25:50.703825Z"
    }
   },
   "id": "808bc121bb818084",
   "execution_count": 4
  },
  {
   "cell_type": "code",
   "outputs": [
    {
     "name": "stdout",
     "output_type": "stream",
     "text": [
      "<class 'geopandas.geodataframe.GeoDataFrame'>\n",
      "Index: 12298 entries, 20 to 12616\n",
      "Data columns (total 21 columns):\n",
      " #   Column              Non-Null Count  Dtype   \n",
      "---  ------              --------------  -----   \n",
      " 0   lgd_sta_id          12298 non-null  object  \n",
      " 1   lgd_sta_na          12298 non-null  object  \n",
      " 2   lgd_dis_id          12298 non-null  object  \n",
      " 3   lgd_dis_na          12298 non-null  object  \n",
      " 4   pc11_st_id          12298 non-null  object  \n",
      " 5   pc11_di_id          12298 non-null  object  \n",
      " 6   pc11_st_na          12298 non-null  object  \n",
      " 7   pc11_di_na          12298 non-null  object  \n",
      " 8   geometry            12298 non-null  geometry\n",
      " 9   lgd_state_id        12298 non-null  object  \n",
      " 10  lgd_district_id     12298 non-null  object  \n",
      " 11  lgd_state_name      12298 non-null  object  \n",
      " 12  lgd_district_name   12298 non-null  object  \n",
      " 13  state               12298 non-null  object  \n",
      " 14  district            12298 non-null  object  \n",
      " 15  deaths              12298 non-null  float64 \n",
      " 16  month               12298 non-null  float64 \n",
      " 17  year                12298 non-null  float32 \n",
      " 18  pc11_state_id       12298 non-null  object  \n",
      " 19  pc11_district_id    12298 non-null  object  \n",
      " 20  pc11_district_name  12298 non-null  object  \n",
      "dtypes: float32(1), float64(2), geometry(1), object(17)\n",
      "memory usage: 2.0+ MB\n"
     ]
    }
   ],
   "source": [
    "# Merge the above two tables (2018)\n",
    "mortality_perDistrict_perMonth_shp = pd.merge(district_shp, mortality_perDistrict_perMonth, left_on=\"lgd_dis_id\", right_on=\"lgd_district_id\", how=\"left\")\n",
    "mortality_perDistrict_perMonth_shp = mortality_perDistrict_perMonth_shp.dropna()\n",
    "\n",
    "# Check the \"mortality_perDistrict_perMonth_shp\" table\n",
    "mortality_perDistrict_perMonth_shp.info()"
   ],
   "metadata": {
    "collapsed": false,
    "ExecuteTime": {
     "end_time": "2024-02-01T17:25:52.001704Z",
     "start_time": "2024-02-01T17:25:51.985297Z"
    }
   },
   "id": "9566dc34e5a6fbb3",
   "execution_count": 5
  },
  {
   "cell_type": "code",
   "outputs": [
    {
     "name": "stdout",
     "output_type": "stream",
     "text": [
      "<class 'geopandas.geodataframe.GeoDataFrame'>\n",
      "Index: 12298 entries, 20 to 12616\n",
      "Data columns (total 12 columns):\n",
      " #   Column      Non-Null Count  Dtype   \n",
      "---  ------      --------------  -----   \n",
      " 0   lgd_sta_id  12298 non-null  object  \n",
      " 1   lgd_sta_na  12298 non-null  object  \n",
      " 2   lgd_dis_id  12298 non-null  object  \n",
      " 3   lgd_dis_na  12298 non-null  object  \n",
      " 4   pc11_st_id  12298 non-null  object  \n",
      " 5   pc11_di_id  12298 non-null  object  \n",
      " 6   pc11_st_na  12298 non-null  object  \n",
      " 7   pc11_di_na  12298 non-null  object  \n",
      " 8   geometry    12298 non-null  geometry\n",
      " 9   deaths      12298 non-null  float64 \n",
      " 10  month       12298 non-null  float64 \n",
      " 11  year        12298 non-null  float32 \n",
      "dtypes: float32(1), float64(2), geometry(1), object(8)\n",
      "memory usage: 1.2+ MB\n"
     ]
    }
   ],
   "source": [
    "mortality_perDistrict_perMonth_shp.drop(columns=[\"lgd_state_id\", \"lgd_district_id\", \"lgd_state_name\", \"lgd_district_name\", \"state\", \"district\", \"pc11_state_id\", \"pc11_district_id\", \"pc11_district_name\"], inplace=True)\n",
    "\n",
    "# Check the \"mortality_perDistrict_perMonth_shp\" table\n",
    "mortality_perDistrict_perMonth_shp.info()"
   ],
   "metadata": {
    "collapsed": false,
    "ExecuteTime": {
     "end_time": "2024-02-01T17:25:52.013837Z",
     "start_time": "2024-02-01T17:25:52.002737Z"
    }
   },
   "id": "4221ed964de83e7e",
   "execution_count": 6
  },
  {
   "cell_type": "code",
   "outputs": [],
   "source": [
    "# Export the \"mortality_perDistrict_perMonth_shp\" table to shapefile\n",
    "os.mkdir(\"./mortality_perDistrict_perMonth_shp\")\n",
    "mortality_perDistrict_perMonth_shp.to_file(\"./mortality_perDistrict_perMonth_shp/mortality_perDistrict_perMonth_shp.shp\", driver=\"ESRI Shapefile\")"
   ],
   "metadata": {
    "collapsed": false,
    "ExecuteTime": {
     "end_time": "2024-02-01T17:26:02.087078Z",
     "start_time": "2024-02-01T17:25:52.010477Z"
    }
   },
   "id": "cf18ff1a5f8f2b51",
   "execution_count": 7
  }
 ],
 "metadata": {
  "kernelspec": {
   "display_name": "Python 3",
   "language": "python",
   "name": "python3"
  },
  "language_info": {
   "codemirror_mode": {
    "name": "ipython",
    "version": 2
   },
   "file_extension": ".py",
   "mimetype": "text/x-python",
   "name": "python",
   "nbconvert_exporter": "python",
   "pygments_lexer": "ipython2",
   "version": "2.7.6"
  }
 },
 "nbformat": 4,
 "nbformat_minor": 5
}
