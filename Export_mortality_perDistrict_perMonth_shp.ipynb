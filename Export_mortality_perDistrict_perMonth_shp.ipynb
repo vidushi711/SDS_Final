{
 "cells": [
  {
   "cell_type": "code",
   "execution_count": 17,
   "id": "initial_id",
   "metadata": {
    "collapsed": true,
    "ExecuteTime": {
     "end_time": "2024-02-02T18:41:35.267874Z",
     "start_time": "2024-02-02T18:41:35.265856Z"
    }
   },
   "outputs": [],
   "source": [
    "import pandas as pd\n",
    "import geopandas as gpd\n",
    "import os"
   ]
  },
  {
   "cell_type": "code",
   "outputs": [
    {
     "data": {
      "text/plain": "  lgd_state_id    lgd_state_name             state    deaths    year  \\\n0           02  himachal pradesh  Himachal Pradesh   40133.0  2018.0   \n1           02  himachal pradesh  Himachal Pradesh   40970.0  2019.0   \n2           02  himachal pradesh  Himachal Pradesh   42416.0  2020.0   \n3           02  himachal pradesh  Himachal Pradesh   21180.0  2021.0   \n4           03            punjab            Punjab  199461.0  2015.0   \n\n  pc11_state_id  \n0            02  \n1            02  \n2            02  \n3            02  \n4            03  ",
      "text/html": "<div>\n<style scoped>\n    .dataframe tbody tr th:only-of-type {\n        vertical-align: middle;\n    }\n\n    .dataframe tbody tr th {\n        vertical-align: top;\n    }\n\n    .dataframe thead th {\n        text-align: right;\n    }\n</style>\n<table border=\"1\" class=\"dataframe\">\n  <thead>\n    <tr style=\"text-align: right;\">\n      <th></th>\n      <th>lgd_state_id</th>\n      <th>lgd_state_name</th>\n      <th>state</th>\n      <th>deaths</th>\n      <th>year</th>\n      <th>pc11_state_id</th>\n    </tr>\n  </thead>\n  <tbody>\n    <tr>\n      <th>0</th>\n      <td>02</td>\n      <td>himachal pradesh</td>\n      <td>Himachal Pradesh</td>\n      <td>40133.0</td>\n      <td>2018.0</td>\n      <td>02</td>\n    </tr>\n    <tr>\n      <th>1</th>\n      <td>02</td>\n      <td>himachal pradesh</td>\n      <td>Himachal Pradesh</td>\n      <td>40970.0</td>\n      <td>2019.0</td>\n      <td>02</td>\n    </tr>\n    <tr>\n      <th>2</th>\n      <td>02</td>\n      <td>himachal pradesh</td>\n      <td>Himachal Pradesh</td>\n      <td>42416.0</td>\n      <td>2020.0</td>\n      <td>02</td>\n    </tr>\n    <tr>\n      <th>3</th>\n      <td>02</td>\n      <td>himachal pradesh</td>\n      <td>Himachal Pradesh</td>\n      <td>21180.0</td>\n      <td>2021.0</td>\n      <td>02</td>\n    </tr>\n    <tr>\n      <th>4</th>\n      <td>03</td>\n      <td>punjab</td>\n      <td>Punjab</td>\n      <td>199461.0</td>\n      <td>2015.0</td>\n      <td>03</td>\n    </tr>\n  </tbody>\n</table>\n</div>"
     },
     "execution_count": 18,
     "metadata": {},
     "output_type": "execute_result"
    }
   ],
   "source": [
    "# Explore the \"state_mort_year\" table\n",
    "mortality_perState_perYear = pd.read_stata(\"../covid_data/mortality/state_mort_year.dta\")\n",
    "mortality_perState_perYear.head()"
   ],
   "metadata": {
    "collapsed": false,
    "ExecuteTime": {
     "end_time": "2024-02-02T18:41:35.286490Z",
     "start_time": "2024-02-02T18:41:35.270926Z"
    }
   },
   "id": "647f0c2133f62125",
   "execution_count": 18
  },
  {
   "cell_type": "code",
   "outputs": [
    {
     "data": {
      "text/plain": "   lgd_state_id  lgd_state_name           state    deaths    year  \\\n23           09   uttar pradesh   Uttar Pradesh  771383.0  2019.0   \n24           09   uttar pradesh   Uttar Pradesh  791485.0  2020.0   \n25           09   uttar pradesh   Uttar Pradesh  333878.0  2021.0   \n26           10           bihar           Bihar  182921.0  2018.0   \n27           10           bihar           Bihar  351274.0  2019.0   \n28           10           bihar           Bihar  387429.0  2020.0   \n29           10           bihar           Bihar  215746.0  2021.0   \n37           23  madhya pradesh  Madhya Pradesh  407123.0  2018.0   \n38           23  madhya pradesh  Madhya Pradesh  449740.0  2019.0   \n39           23  madhya pradesh  Madhya Pradesh  460691.0  2020.0   \n40           23  madhya pradesh  Madhya Pradesh  348595.0  2021.0   \n41           27     maharashtra     Maharashtra  426489.0  2018.0   \n42           27     maharashtra     Maharashtra  462028.0  2019.0   \n43           27     maharashtra     Maharashtra  565185.0  2020.0   \n44           27     maharashtra     Maharashtra  338123.0  2021.0   \n56           32          kerala          Kerala  235982.0  2015.0   \n57           32          kerala          Kerala  244900.0  2016.0   \n58           32          kerala          Kerala  252103.0  2017.0   \n59           32          kerala          Kerala  255594.0  2018.0   \n60           32          kerala          Kerala  264150.0  2019.0   \n61           32          kerala          Kerala  252421.0  2020.0   \n62           32          kerala          Kerala  119280.0  2021.0   \n63           33      tamil nadu      Tamil Nadu  536192.0  2018.0   \n64           33      tamil nadu      Tamil Nadu  588221.0  2019.0   \n65           33      tamil nadu      Tamil Nadu  644291.0  2020.0   \n66           33      tamil nadu      Tamil Nadu  318425.0  2021.0   \n\n   pc11_state_id  \n23            09  \n24            09  \n25            09  \n26            10  \n27            10  \n28            10  \n29            10  \n37            23  \n38            23  \n39            23  \n40            23  \n41            27  \n42            27  \n43            27  \n44            27  \n56            32  \n57            32  \n58            32  \n59            32  \n60            32  \n61            32  \n62            32  \n63            33  \n64            33  \n65            33  \n66            33  ",
      "text/html": "<div>\n<style scoped>\n    .dataframe tbody tr th:only-of-type {\n        vertical-align: middle;\n    }\n\n    .dataframe tbody tr th {\n        vertical-align: top;\n    }\n\n    .dataframe thead th {\n        text-align: right;\n    }\n</style>\n<table border=\"1\" class=\"dataframe\">\n  <thead>\n    <tr style=\"text-align: right;\">\n      <th></th>\n      <th>lgd_state_id</th>\n      <th>lgd_state_name</th>\n      <th>state</th>\n      <th>deaths</th>\n      <th>year</th>\n      <th>pc11_state_id</th>\n    </tr>\n  </thead>\n  <tbody>\n    <tr>\n      <th>23</th>\n      <td>09</td>\n      <td>uttar pradesh</td>\n      <td>Uttar Pradesh</td>\n      <td>771383.0</td>\n      <td>2019.0</td>\n      <td>09</td>\n    </tr>\n    <tr>\n      <th>24</th>\n      <td>09</td>\n      <td>uttar pradesh</td>\n      <td>Uttar Pradesh</td>\n      <td>791485.0</td>\n      <td>2020.0</td>\n      <td>09</td>\n    </tr>\n    <tr>\n      <th>25</th>\n      <td>09</td>\n      <td>uttar pradesh</td>\n      <td>Uttar Pradesh</td>\n      <td>333878.0</td>\n      <td>2021.0</td>\n      <td>09</td>\n    </tr>\n    <tr>\n      <th>26</th>\n      <td>10</td>\n      <td>bihar</td>\n      <td>Bihar</td>\n      <td>182921.0</td>\n      <td>2018.0</td>\n      <td>10</td>\n    </tr>\n    <tr>\n      <th>27</th>\n      <td>10</td>\n      <td>bihar</td>\n      <td>Bihar</td>\n      <td>351274.0</td>\n      <td>2019.0</td>\n      <td>10</td>\n    </tr>\n    <tr>\n      <th>28</th>\n      <td>10</td>\n      <td>bihar</td>\n      <td>Bihar</td>\n      <td>387429.0</td>\n      <td>2020.0</td>\n      <td>10</td>\n    </tr>\n    <tr>\n      <th>29</th>\n      <td>10</td>\n      <td>bihar</td>\n      <td>Bihar</td>\n      <td>215746.0</td>\n      <td>2021.0</td>\n      <td>10</td>\n    </tr>\n    <tr>\n      <th>37</th>\n      <td>23</td>\n      <td>madhya pradesh</td>\n      <td>Madhya Pradesh</td>\n      <td>407123.0</td>\n      <td>2018.0</td>\n      <td>23</td>\n    </tr>\n    <tr>\n      <th>38</th>\n      <td>23</td>\n      <td>madhya pradesh</td>\n      <td>Madhya Pradesh</td>\n      <td>449740.0</td>\n      <td>2019.0</td>\n      <td>23</td>\n    </tr>\n    <tr>\n      <th>39</th>\n      <td>23</td>\n      <td>madhya pradesh</td>\n      <td>Madhya Pradesh</td>\n      <td>460691.0</td>\n      <td>2020.0</td>\n      <td>23</td>\n    </tr>\n    <tr>\n      <th>40</th>\n      <td>23</td>\n      <td>madhya pradesh</td>\n      <td>Madhya Pradesh</td>\n      <td>348595.0</td>\n      <td>2021.0</td>\n      <td>23</td>\n    </tr>\n    <tr>\n      <th>41</th>\n      <td>27</td>\n      <td>maharashtra</td>\n      <td>Maharashtra</td>\n      <td>426489.0</td>\n      <td>2018.0</td>\n      <td>27</td>\n    </tr>\n    <tr>\n      <th>42</th>\n      <td>27</td>\n      <td>maharashtra</td>\n      <td>Maharashtra</td>\n      <td>462028.0</td>\n      <td>2019.0</td>\n      <td>27</td>\n    </tr>\n    <tr>\n      <th>43</th>\n      <td>27</td>\n      <td>maharashtra</td>\n      <td>Maharashtra</td>\n      <td>565185.0</td>\n      <td>2020.0</td>\n      <td>27</td>\n    </tr>\n    <tr>\n      <th>44</th>\n      <td>27</td>\n      <td>maharashtra</td>\n      <td>Maharashtra</td>\n      <td>338123.0</td>\n      <td>2021.0</td>\n      <td>27</td>\n    </tr>\n    <tr>\n      <th>56</th>\n      <td>32</td>\n      <td>kerala</td>\n      <td>Kerala</td>\n      <td>235982.0</td>\n      <td>2015.0</td>\n      <td>32</td>\n    </tr>\n    <tr>\n      <th>57</th>\n      <td>32</td>\n      <td>kerala</td>\n      <td>Kerala</td>\n      <td>244900.0</td>\n      <td>2016.0</td>\n      <td>32</td>\n    </tr>\n    <tr>\n      <th>58</th>\n      <td>32</td>\n      <td>kerala</td>\n      <td>Kerala</td>\n      <td>252103.0</td>\n      <td>2017.0</td>\n      <td>32</td>\n    </tr>\n    <tr>\n      <th>59</th>\n      <td>32</td>\n      <td>kerala</td>\n      <td>Kerala</td>\n      <td>255594.0</td>\n      <td>2018.0</td>\n      <td>32</td>\n    </tr>\n    <tr>\n      <th>60</th>\n      <td>32</td>\n      <td>kerala</td>\n      <td>Kerala</td>\n      <td>264150.0</td>\n      <td>2019.0</td>\n      <td>32</td>\n    </tr>\n    <tr>\n      <th>61</th>\n      <td>32</td>\n      <td>kerala</td>\n      <td>Kerala</td>\n      <td>252421.0</td>\n      <td>2020.0</td>\n      <td>32</td>\n    </tr>\n    <tr>\n      <th>62</th>\n      <td>32</td>\n      <td>kerala</td>\n      <td>Kerala</td>\n      <td>119280.0</td>\n      <td>2021.0</td>\n      <td>32</td>\n    </tr>\n    <tr>\n      <th>63</th>\n      <td>33</td>\n      <td>tamil nadu</td>\n      <td>Tamil Nadu</td>\n      <td>536192.0</td>\n      <td>2018.0</td>\n      <td>33</td>\n    </tr>\n    <tr>\n      <th>64</th>\n      <td>33</td>\n      <td>tamil nadu</td>\n      <td>Tamil Nadu</td>\n      <td>588221.0</td>\n      <td>2019.0</td>\n      <td>33</td>\n    </tr>\n    <tr>\n      <th>65</th>\n      <td>33</td>\n      <td>tamil nadu</td>\n      <td>Tamil Nadu</td>\n      <td>644291.0</td>\n      <td>2020.0</td>\n      <td>33</td>\n    </tr>\n    <tr>\n      <th>66</th>\n      <td>33</td>\n      <td>tamil nadu</td>\n      <td>Tamil Nadu</td>\n      <td>318425.0</td>\n      <td>2021.0</td>\n      <td>33</td>\n    </tr>\n  </tbody>\n</table>\n</div>"
     },
     "execution_count": 19,
     "metadata": {},
     "output_type": "execute_result"
    }
   ],
   "source": [
    "# Extract six states\n",
    "mortality_perState_perYear = mortality_perState_perYear[mortality_perState_perYear[\"lgd_state_name\"].isin([\"tamil nadu\", \"madhya pradesh\", \"maharashtra\", \"uttar pradesh\", \"kerala\", \"bihar\"])]\n",
    "\n",
    "# Check the \"mortality_perDistrict_perMonth\" table\n",
    "mortality_perState_perYear"
   ],
   "metadata": {
    "collapsed": false,
    "ExecuteTime": {
     "end_time": "2024-02-02T18:41:35.295805Z",
     "start_time": "2024-02-02T18:41:35.279078Z"
    }
   },
   "id": "a17c634c623f4f41",
   "execution_count": 19
  },
  {
   "cell_type": "code",
   "outputs": [
    {
     "name": "stdout",
     "output_type": "stream",
     "text": [
      "<class 'geopandas.geodataframe.GeoDataFrame'>\n",
      "RangeIndex: 36 entries, 0 to 35\n",
      "Data columns (total 5 columns):\n",
      " #   Column      Non-Null Count  Dtype   \n",
      "---  ------      --------------  -----   \n",
      " 0   lgd_sta_id  36 non-null     object  \n",
      " 1   lgd_sta_na  36 non-null     object  \n",
      " 2   pc11_st_id  36 non-null     object  \n",
      " 3   pc11_st_na  36 non-null     object  \n",
      " 4   geometry    36 non-null     geometry\n",
      "dtypes: geometry(1), object(4)\n",
      "memory usage: 1.5+ KB\n"
     ]
    }
   ],
   "source": [
    "# Get shapefile in state level\n",
    "state_shp = gpd.read_file(\"./output_shpfile/state_key_with_polygon/state_key_with_polygon.shp\")\n",
    "\n",
    "# Check the \"state_shp\" table\n",
    "state_shp.info()"
   ],
   "metadata": {
    "collapsed": false,
    "ExecuteTime": {
     "end_time": "2024-02-02T18:41:35.763461Z",
     "start_time": "2024-02-02T18:41:35.296467Z"
    }
   },
   "id": "808bc121bb818084",
   "execution_count": 20
  },
  {
   "cell_type": "code",
   "outputs": [
    {
     "name": "stdout",
     "output_type": "stream",
     "text": [
      "<class 'geopandas.geodataframe.GeoDataFrame'>\n",
      "Index: 26 entries, 7 to 51\n",
      "Data columns (total 11 columns):\n",
      " #   Column          Non-Null Count  Dtype   \n",
      "---  ------          --------------  -----   \n",
      " 0   lgd_sta_id      26 non-null     object  \n",
      " 1   lgd_sta_na      26 non-null     object  \n",
      " 2   pc11_st_id      26 non-null     object  \n",
      " 3   pc11_st_na      26 non-null     object  \n",
      " 4   geometry        26 non-null     geometry\n",
      " 5   lgd_state_id    26 non-null     object  \n",
      " 6   lgd_state_name  26 non-null     object  \n",
      " 7   state           26 non-null     object  \n",
      " 8   deaths          26 non-null     float64 \n",
      " 9   year            26 non-null     float32 \n",
      " 10  pc11_state_id   26 non-null     object  \n",
      "dtypes: float32(1), float64(1), geometry(1), object(8)\n",
      "memory usage: 2.3+ KB\n"
     ]
    }
   ],
   "source": [
    "# Merge the above two tables\n",
    "mortality_perState_perYear_shp = pd.merge(state_shp, mortality_perState_perYear, left_on=\"lgd_sta_id\", right_on=\"lgd_state_id\", how=\"left\")\n",
    "mortality_perState_perYear_shp = mortality_perState_perYear_shp.dropna()\n",
    "\n",
    "# Check the \"mortality_perState_perYear_shp\" table\n",
    "mortality_perState_perYear_shp.info()"
   ],
   "metadata": {
    "collapsed": false,
    "ExecuteTime": {
     "end_time": "2024-02-02T18:41:35.769711Z",
     "start_time": "2024-02-02T18:41:35.767719Z"
    }
   },
   "id": "9566dc34e5a6fbb3",
   "execution_count": 21
  },
  {
   "cell_type": "code",
   "outputs": [
    {
     "name": "stdout",
     "output_type": "stream",
     "text": [
      "<class 'geopandas.geodataframe.GeoDataFrame'>\n",
      "Index: 26 entries, 7 to 51\n",
      "Data columns (total 7 columns):\n",
      " #   Column      Non-Null Count  Dtype   \n",
      "---  ------      --------------  -----   \n",
      " 0   lgd_sta_id  26 non-null     object  \n",
      " 1   lgd_sta_na  26 non-null     object  \n",
      " 2   pc11_st_id  26 non-null     object  \n",
      " 3   pc11_st_na  26 non-null     object  \n",
      " 4   geometry    26 non-null     geometry\n",
      " 5   deaths      26 non-null     float64 \n",
      " 6   year        26 non-null     float32 \n",
      "dtypes: float32(1), float64(1), geometry(1), object(4)\n",
      "memory usage: 1.5+ KB\n"
     ]
    }
   ],
   "source": [
    "mortality_perState_perYear_shp.drop(columns=[\"lgd_state_id\", \"lgd_state_name\", \"state\", \"pc11_state_id\"], inplace=True)\n",
    "\n",
    "# Check the \"mortality_perState_perYear_shp\" table\n",
    "mortality_perState_perYear_shp.info()"
   ],
   "metadata": {
    "collapsed": false,
    "ExecuteTime": {
     "end_time": "2024-02-02T18:41:35.775583Z",
     "start_time": "2024-02-02T18:41:35.770294Z"
    }
   },
   "id": "4221ed964de83e7e",
   "execution_count": 22
  },
  {
   "cell_type": "code",
   "outputs": [],
   "source": [
    "# Export the \"mortality_perDistrict_perMonth_shp\" table to shapefile\n",
    "os.mkdir(\"./output_shpfile/mortality_perState_perYear_shp\")\n",
    "mortality_perState_perYear_shp.to_file(\"./output_shpfile/mortality_perState_perYear_shp/mortality_perDistrict_perMonth_shp.shp\", driver=\"ESRI Shapefile\")"
   ],
   "metadata": {
    "collapsed": false,
    "ExecuteTime": {
     "end_time": "2024-02-02T18:41:36.068337Z",
     "start_time": "2024-02-02T18:41:35.775915Z"
    }
   },
   "id": "cf18ff1a5f8f2b51",
   "execution_count": 23
  }
 ],
 "metadata": {
  "kernelspec": {
   "display_name": "Python 3",
   "language": "python",
   "name": "python3"
  },
  "language_info": {
   "codemirror_mode": {
    "name": "ipython",
    "version": 2
   },
   "file_extension": ".py",
   "mimetype": "text/x-python",
   "name": "python",
   "nbconvert_exporter": "python",
   "pygments_lexer": "ipython2",
   "version": "2.7.6"
  }
 },
 "nbformat": 4,
 "nbformat_minor": 5
}
